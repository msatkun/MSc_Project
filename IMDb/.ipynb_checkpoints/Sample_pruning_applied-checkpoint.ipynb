{
 "cells": [
  {
   "cell_type": "code",
   "execution_count": 1,
   "metadata": {
    "colab": {
     "base_uri": "https://localhost:8080/"
    },
    "executionInfo": {
     "elapsed": 19050,
     "status": "ok",
     "timestamp": 1703210641942,
     "user": {
      "displayName": "Melany S",
      "userId": "05076739692052721239"
     },
     "user_tz": 0
    },
    "id": "ipKQdxUJrh-l",
    "outputId": "c6680527-1da9-4e85-c9f9-90171865cb90"
   },
   "outputs": [
    {
     "name": "stdout",
     "output_type": "stream",
     "text": [
      "Mounted at /content/gdrive\n"
     ]
    }
   ],
   "source": [
    "#mount to google drive account\n",
    "from google.colab import drive\n",
    "drive.mount('/content/gdrive')"
   ]
  },
  {
   "cell_type": "code",
   "execution_count": 2,
   "metadata": {
    "colab": {
     "base_uri": "https://localhost:8080/"
    },
    "executionInfo": {
     "elapsed": 6895,
     "status": "ok",
     "timestamp": 1703210656563,
     "user": {
      "displayName": "Melany S",
      "userId": "05076739692052721239"
     },
     "user_tz": 0
    },
    "id": "t0RMKkbfrwLB",
    "outputId": "32667922-55d8-4923-d7c4-396eba8fb95d"
   },
   "outputs": [
    {
     "name": "stderr",
     "output_type": "stream",
     "text": [
      "[nltk_data] Downloading package punkt to /root/nltk_data...\n",
      "[nltk_data]   Unzipping tokenizers/punkt.zip.\n",
      "[nltk_data] Downloading package stopwords to /root/nltk_data...\n",
      "[nltk_data]   Unzipping corpora/stopwords.zip.\n",
      "[nltk_data] Downloading package wordnet to /root/nltk_data...\n"
     ]
    },
    {
     "data": {
      "text/plain": [
       "True"
      ]
     },
     "execution_count": 2,
     "metadata": {},
     "output_type": "execute_result"
    }
   ],
   "source": [
    "#import required modules\n",
    "import os\n",
    "import re\n",
    "import time\n",
    "import nltk\n",
    "import torch\n",
    "\n",
    "import numpy as np\n",
    "import pandas as pd\n",
    "from torch import nn\n",
    "import seaborn as sns\n",
    "from tqdm import tqdm\n",
    "\n",
    "import torch.nn.utils.prune as prune\n",
    "import torch.nn.functional as F\n",
    "from torch.optim import Adam\n",
    "from bs4 import BeautifulSoup\n",
    "from collections import Counter\n",
    "import matplotlib.pyplot as plt\n",
    "from nltk.corpus import stopwords\n",
    "\n",
    "from nltk.stem import WordNetLemmatizer\n",
    "from nltk.stem.wordnet import WordNetLemmatizer\n",
    "from nltk.tokenize.toktok import ToktokTokenizer\n",
    "from nltk.tokenize import word_tokenize, sent_tokenize\n",
    "from torch.utils.data import TensorDataset, DataLoader\n",
    "from sklearn.metrics import classification_report, confusion_matrix\n",
    "\n",
    "# download the NLTK resources needed\n",
    "nltk.download('punkt')\n",
    "nltk.download('stopwords')\n",
    "nltk.download('wordnet')"
   ]
  },
  {
   "cell_type": "code",
   "execution_count": 3,
   "metadata": {
    "executionInfo": {
     "elapsed": 1829,
     "status": "ok",
     "timestamp": 1703210658390,
     "user": {
      "displayName": "Melany S",
      "userId": "05076739692052721239"
     },
     "user_tz": 0
    },
    "id": "-mHf9DCQr0eC"
   },
   "outputs": [],
   "source": [
    "# path to your processed CSV file\n",
    "data = pd.read_csv('/content/gdrive/My Drive/Colab Notebooks/IP_MSC/IMDb_processed.csv')"
   ]
  },
  {
   "cell_type": "code",
   "execution_count": 4,
   "metadata": {
    "colab": {
     "base_uri": "https://localhost:8080/",
     "height": 206
    },
    "executionInfo": {
     "elapsed": 6,
     "status": "ok",
     "timestamp": 1703210658390,
     "user": {
      "displayName": "Melany S",
      "userId": "05076739692052721239"
     },
     "user_tz": 0
    },
    "id": "Vl-p3UGwqjrG",
    "outputId": "95e96618-226f-4003-8c39-341e53ac8234"
   },
   "outputs": [
    {
     "data": {
      "text/html": [
       "\n",
       "  <div id=\"df-b99f5dc9-e367-46bd-8df9-71b5a9d69d24\" class=\"colab-df-container\">\n",
       "    <div>\n",
       "<style scoped>\n",
       "    .dataframe tbody tr th:only-of-type {\n",
       "        vertical-align: middle;\n",
       "    }\n",
       "\n",
       "    .dataframe tbody tr th {\n",
       "        vertical-align: top;\n",
       "    }\n",
       "\n",
       "    .dataframe thead th {\n",
       "        text-align: right;\n",
       "    }\n",
       "</style>\n",
       "<table border=\"1\" class=\"dataframe\">\n",
       "  <thead>\n",
       "    <tr style=\"text-align: right;\">\n",
       "      <th></th>\n",
       "      <th>preprocessed</th>\n",
       "      <th>label</th>\n",
       "    </tr>\n",
       "  </thead>\n",
       "  <tbody>\n",
       "    <tr>\n",
       "      <th>0</th>\n",
       "      <td>One reviewer mentioned watching Oz episode hoo...</td>\n",
       "      <td>1</td>\n",
       "    </tr>\n",
       "    <tr>\n",
       "      <th>1</th>\n",
       "      <td>wonderful little production . filming techniqu...</td>\n",
       "      <td>1</td>\n",
       "    </tr>\n",
       "    <tr>\n",
       "      <th>2</th>\n",
       "      <td>thought wonderful way spend time hot summer we...</td>\n",
       "      <td>1</td>\n",
       "    </tr>\n",
       "    <tr>\n",
       "      <th>3</th>\n",
       "      <td>Basically family little boy Jake think zombie ...</td>\n",
       "      <td>0</td>\n",
       "    </tr>\n",
       "    <tr>\n",
       "      <th>4</th>\n",
       "      <td>Petter Mattei Love Time Money visually stunnin...</td>\n",
       "      <td>1</td>\n",
       "    </tr>\n",
       "  </tbody>\n",
       "</table>\n",
       "</div>\n",
       "    <div class=\"colab-df-buttons\">\n",
       "\n",
       "  <div class=\"colab-df-container\">\n",
       "    <button class=\"colab-df-convert\" onclick=\"convertToInteractive('df-b99f5dc9-e367-46bd-8df9-71b5a9d69d24')\"\n",
       "            title=\"Convert this dataframe to an interactive table.\"\n",
       "            style=\"display:none;\">\n",
       "\n",
       "  <svg xmlns=\"http://www.w3.org/2000/svg\" height=\"24px\" viewBox=\"0 -960 960 960\">\n",
       "    <path d=\"M120-120v-720h720v720H120Zm60-500h600v-160H180v160Zm220 220h160v-160H400v160Zm0 220h160v-160H400v160ZM180-400h160v-160H180v160Zm440 0h160v-160H620v160ZM180-180h160v-160H180v160Zm440 0h160v-160H620v160Z\"/>\n",
       "  </svg>\n",
       "    </button>\n",
       "\n",
       "  <style>\n",
       "    .colab-df-container {\n",
       "      display:flex;\n",
       "      gap: 12px;\n",
       "    }\n",
       "\n",
       "    .colab-df-convert {\n",
       "      background-color: #E8F0FE;\n",
       "      border: none;\n",
       "      border-radius: 50%;\n",
       "      cursor: pointer;\n",
       "      display: none;\n",
       "      fill: #1967D2;\n",
       "      height: 32px;\n",
       "      padding: 0 0 0 0;\n",
       "      width: 32px;\n",
       "    }\n",
       "\n",
       "    .colab-df-convert:hover {\n",
       "      background-color: #E2EBFA;\n",
       "      box-shadow: 0px 1px 2px rgba(60, 64, 67, 0.3), 0px 1px 3px 1px rgba(60, 64, 67, 0.15);\n",
       "      fill: #174EA6;\n",
       "    }\n",
       "\n",
       "    .colab-df-buttons div {\n",
       "      margin-bottom: 4px;\n",
       "    }\n",
       "\n",
       "    [theme=dark] .colab-df-convert {\n",
       "      background-color: #3B4455;\n",
       "      fill: #D2E3FC;\n",
       "    }\n",
       "\n",
       "    [theme=dark] .colab-df-convert:hover {\n",
       "      background-color: #434B5C;\n",
       "      box-shadow: 0px 1px 3px 1px rgba(0, 0, 0, 0.15);\n",
       "      filter: drop-shadow(0px 1px 2px rgba(0, 0, 0, 0.3));\n",
       "      fill: #FFFFFF;\n",
       "    }\n",
       "  </style>\n",
       "\n",
       "    <script>\n",
       "      const buttonEl =\n",
       "        document.querySelector('#df-b99f5dc9-e367-46bd-8df9-71b5a9d69d24 button.colab-df-convert');\n",
       "      buttonEl.style.display =\n",
       "        google.colab.kernel.accessAllowed ? 'block' : 'none';\n",
       "\n",
       "      async function convertToInteractive(key) {\n",
       "        const element = document.querySelector('#df-b99f5dc9-e367-46bd-8df9-71b5a9d69d24');\n",
       "        const dataTable =\n",
       "          await google.colab.kernel.invokeFunction('convertToInteractive',\n",
       "                                                    [key], {});\n",
       "        if (!dataTable) return;\n",
       "\n",
       "        const docLinkHtml = 'Like what you see? Visit the ' +\n",
       "          '<a target=\"_blank\" href=https://colab.research.google.com/notebooks/data_table.ipynb>data table notebook</a>'\n",
       "          + ' to learn more about interactive tables.';\n",
       "        element.innerHTML = '';\n",
       "        dataTable['output_type'] = 'display_data';\n",
       "        await google.colab.output.renderOutput(dataTable, element);\n",
       "        const docLink = document.createElement('div');\n",
       "        docLink.innerHTML = docLinkHtml;\n",
       "        element.appendChild(docLink);\n",
       "      }\n",
       "    </script>\n",
       "  </div>\n",
       "\n",
       "\n",
       "<div id=\"df-368aca82-18f4-445c-9b42-e0b151549f50\">\n",
       "  <button class=\"colab-df-quickchart\" onclick=\"quickchart('df-368aca82-18f4-445c-9b42-e0b151549f50')\"\n",
       "            title=\"Suggest charts\"\n",
       "            style=\"display:none;\">\n",
       "\n",
       "<svg xmlns=\"http://www.w3.org/2000/svg\" height=\"24px\"viewBox=\"0 0 24 24\"\n",
       "     width=\"24px\">\n",
       "    <g>\n",
       "        <path d=\"M19 3H5c-1.1 0-2 .9-2 2v14c0 1.1.9 2 2 2h14c1.1 0 2-.9 2-2V5c0-1.1-.9-2-2-2zM9 17H7v-7h2v7zm4 0h-2V7h2v10zm4 0h-2v-4h2v4z\"/>\n",
       "    </g>\n",
       "</svg>\n",
       "  </button>\n",
       "\n",
       "<style>\n",
       "  .colab-df-quickchart {\n",
       "      --bg-color: #E8F0FE;\n",
       "      --fill-color: #1967D2;\n",
       "      --hover-bg-color: #E2EBFA;\n",
       "      --hover-fill-color: #174EA6;\n",
       "      --disabled-fill-color: #AAA;\n",
       "      --disabled-bg-color: #DDD;\n",
       "  }\n",
       "\n",
       "  [theme=dark] .colab-df-quickchart {\n",
       "      --bg-color: #3B4455;\n",
       "      --fill-color: #D2E3FC;\n",
       "      --hover-bg-color: #434B5C;\n",
       "      --hover-fill-color: #FFFFFF;\n",
       "      --disabled-bg-color: #3B4455;\n",
       "      --disabled-fill-color: #666;\n",
       "  }\n",
       "\n",
       "  .colab-df-quickchart {\n",
       "    background-color: var(--bg-color);\n",
       "    border: none;\n",
       "    border-radius: 50%;\n",
       "    cursor: pointer;\n",
       "    display: none;\n",
       "    fill: var(--fill-color);\n",
       "    height: 32px;\n",
       "    padding: 0;\n",
       "    width: 32px;\n",
       "  }\n",
       "\n",
       "  .colab-df-quickchart:hover {\n",
       "    background-color: var(--hover-bg-color);\n",
       "    box-shadow: 0 1px 2px rgba(60, 64, 67, 0.3), 0 1px 3px 1px rgba(60, 64, 67, 0.15);\n",
       "    fill: var(--button-hover-fill-color);\n",
       "  }\n",
       "\n",
       "  .colab-df-quickchart-complete:disabled,\n",
       "  .colab-df-quickchart-complete:disabled:hover {\n",
       "    background-color: var(--disabled-bg-color);\n",
       "    fill: var(--disabled-fill-color);\n",
       "    box-shadow: none;\n",
       "  }\n",
       "\n",
       "  .colab-df-spinner {\n",
       "    border: 2px solid var(--fill-color);\n",
       "    border-color: transparent;\n",
       "    border-bottom-color: var(--fill-color);\n",
       "    animation:\n",
       "      spin 1s steps(1) infinite;\n",
       "  }\n",
       "\n",
       "  @keyframes spin {\n",
       "    0% {\n",
       "      border-color: transparent;\n",
       "      border-bottom-color: var(--fill-color);\n",
       "      border-left-color: var(--fill-color);\n",
       "    }\n",
       "    20% {\n",
       "      border-color: transparent;\n",
       "      border-left-color: var(--fill-color);\n",
       "      border-top-color: var(--fill-color);\n",
       "    }\n",
       "    30% {\n",
       "      border-color: transparent;\n",
       "      border-left-color: var(--fill-color);\n",
       "      border-top-color: var(--fill-color);\n",
       "      border-right-color: var(--fill-color);\n",
       "    }\n",
       "    40% {\n",
       "      border-color: transparent;\n",
       "      border-right-color: var(--fill-color);\n",
       "      border-top-color: var(--fill-color);\n",
       "    }\n",
       "    60% {\n",
       "      border-color: transparent;\n",
       "      border-right-color: var(--fill-color);\n",
       "    }\n",
       "    80% {\n",
       "      border-color: transparent;\n",
       "      border-right-color: var(--fill-color);\n",
       "      border-bottom-color: var(--fill-color);\n",
       "    }\n",
       "    90% {\n",
       "      border-color: transparent;\n",
       "      border-bottom-color: var(--fill-color);\n",
       "    }\n",
       "  }\n",
       "</style>\n",
       "\n",
       "  <script>\n",
       "    async function quickchart(key) {\n",
       "      const quickchartButtonEl =\n",
       "        document.querySelector('#' + key + ' button');\n",
       "      quickchartButtonEl.disabled = true;  // To prevent multiple clicks.\n",
       "      quickchartButtonEl.classList.add('colab-df-spinner');\n",
       "      try {\n",
       "        const charts = await google.colab.kernel.invokeFunction(\n",
       "            'suggestCharts', [key], {});\n",
       "      } catch (error) {\n",
       "        console.error('Error during call to suggestCharts:', error);\n",
       "      }\n",
       "      quickchartButtonEl.classList.remove('colab-df-spinner');\n",
       "      quickchartButtonEl.classList.add('colab-df-quickchart-complete');\n",
       "    }\n",
       "    (() => {\n",
       "      let quickchartButtonEl =\n",
       "        document.querySelector('#df-368aca82-18f4-445c-9b42-e0b151549f50 button');\n",
       "      quickchartButtonEl.style.display =\n",
       "        google.colab.kernel.accessAllowed ? 'block' : 'none';\n",
       "    })();\n",
       "  </script>\n",
       "</div>\n",
       "    </div>\n",
       "  </div>\n"
      ],
      "text/plain": [
       "                                        preprocessed  label\n",
       "0  One reviewer mentioned watching Oz episode hoo...      1\n",
       "1  wonderful little production . filming techniqu...      1\n",
       "2  thought wonderful way spend time hot summer we...      1\n",
       "3  Basically family little boy Jake think zombie ...      0\n",
       "4  Petter Mattei Love Time Money visually stunnin...      1"
      ]
     },
     "execution_count": 4,
     "metadata": {},
     "output_type": "execute_result"
    }
   ],
   "source": [
    "data.head()"
   ]
  },
  {
   "cell_type": "code",
   "execution_count": 5,
   "metadata": {
    "colab": {
     "base_uri": "https://localhost:8080/",
     "height": 206
    },
    "executionInfo": {
     "elapsed": 712,
     "status": "ok",
     "timestamp": 1703210661023,
     "user": {
      "displayName": "Melany S",
      "userId": "05076739692052721239"
     },
     "user_tz": 0
    },
    "id": "31m-HQUcqmyk",
    "outputId": "0fbe54f4-668a-49c7-fbbd-94e3007f5ae3"
   },
   "outputs": [
    {
     "data": {
      "text/html": [
       "\n",
       "  <div id=\"df-0f07c383-ec39-42d6-a07f-a5474af99ca8\" class=\"colab-df-container\">\n",
       "    <div>\n",
       "<style scoped>\n",
       "    .dataframe tbody tr th:only-of-type {\n",
       "        vertical-align: middle;\n",
       "    }\n",
       "\n",
       "    .dataframe tbody tr th {\n",
       "        vertical-align: top;\n",
       "    }\n",
       "\n",
       "    .dataframe thead th {\n",
       "        text-align: right;\n",
       "    }\n",
       "</style>\n",
       "<table border=\"1\" class=\"dataframe\">\n",
       "  <thead>\n",
       "    <tr style=\"text-align: right;\">\n",
       "      <th></th>\n",
       "      <th>preprocessed</th>\n",
       "      <th>label</th>\n",
       "      <th>review_length</th>\n",
       "    </tr>\n",
       "  </thead>\n",
       "  <tbody>\n",
       "    <tr>\n",
       "      <th>0</th>\n",
       "      <td>One reviewer mentioned watching Oz episode hoo...</td>\n",
       "      <td>1</td>\n",
       "      <td>214</td>\n",
       "    </tr>\n",
       "    <tr>\n",
       "      <th>1</th>\n",
       "      <td>wonderful little production . filming techniqu...</td>\n",
       "      <td>1</td>\n",
       "      <td>102</td>\n",
       "    </tr>\n",
       "    <tr>\n",
       "      <th>2</th>\n",
       "      <td>thought wonderful way spend time hot summer we...</td>\n",
       "      <td>1</td>\n",
       "      <td>98</td>\n",
       "    </tr>\n",
       "    <tr>\n",
       "      <th>3</th>\n",
       "      <td>Basically family little boy Jake think zombie ...</td>\n",
       "      <td>0</td>\n",
       "      <td>79</td>\n",
       "    </tr>\n",
       "    <tr>\n",
       "      <th>4</th>\n",
       "      <td>Petter Mattei Love Time Money visually stunnin...</td>\n",
       "      <td>1</td>\n",
       "      <td>152</td>\n",
       "    </tr>\n",
       "  </tbody>\n",
       "</table>\n",
       "</div>\n",
       "    <div class=\"colab-df-buttons\">\n",
       "\n",
       "  <div class=\"colab-df-container\">\n",
       "    <button class=\"colab-df-convert\" onclick=\"convertToInteractive('df-0f07c383-ec39-42d6-a07f-a5474af99ca8')\"\n",
       "            title=\"Convert this dataframe to an interactive table.\"\n",
       "            style=\"display:none;\">\n",
       "\n",
       "  <svg xmlns=\"http://www.w3.org/2000/svg\" height=\"24px\" viewBox=\"0 -960 960 960\">\n",
       "    <path d=\"M120-120v-720h720v720H120Zm60-500h600v-160H180v160Zm220 220h160v-160H400v160Zm0 220h160v-160H400v160ZM180-400h160v-160H180v160Zm440 0h160v-160H620v160ZM180-180h160v-160H180v160Zm440 0h160v-160H620v160Z\"/>\n",
       "  </svg>\n",
       "    </button>\n",
       "\n",
       "  <style>\n",
       "    .colab-df-container {\n",
       "      display:flex;\n",
       "      gap: 12px;\n",
       "    }\n",
       "\n",
       "    .colab-df-convert {\n",
       "      background-color: #E8F0FE;\n",
       "      border: none;\n",
       "      border-radius: 50%;\n",
       "      cursor: pointer;\n",
       "      display: none;\n",
       "      fill: #1967D2;\n",
       "      height: 32px;\n",
       "      padding: 0 0 0 0;\n",
       "      width: 32px;\n",
       "    }\n",
       "\n",
       "    .colab-df-convert:hover {\n",
       "      background-color: #E2EBFA;\n",
       "      box-shadow: 0px 1px 2px rgba(60, 64, 67, 0.3), 0px 1px 3px 1px rgba(60, 64, 67, 0.15);\n",
       "      fill: #174EA6;\n",
       "    }\n",
       "\n",
       "    .colab-df-buttons div {\n",
       "      margin-bottom: 4px;\n",
       "    }\n",
       "\n",
       "    [theme=dark] .colab-df-convert {\n",
       "      background-color: #3B4455;\n",
       "      fill: #D2E3FC;\n",
       "    }\n",
       "\n",
       "    [theme=dark] .colab-df-convert:hover {\n",
       "      background-color: #434B5C;\n",
       "      box-shadow: 0px 1px 3px 1px rgba(0, 0, 0, 0.15);\n",
       "      filter: drop-shadow(0px 1px 2px rgba(0, 0, 0, 0.3));\n",
       "      fill: #FFFFFF;\n",
       "    }\n",
       "  </style>\n",
       "\n",
       "    <script>\n",
       "      const buttonEl =\n",
       "        document.querySelector('#df-0f07c383-ec39-42d6-a07f-a5474af99ca8 button.colab-df-convert');\n",
       "      buttonEl.style.display =\n",
       "        google.colab.kernel.accessAllowed ? 'block' : 'none';\n",
       "\n",
       "      async function convertToInteractive(key) {\n",
       "        const element = document.querySelector('#df-0f07c383-ec39-42d6-a07f-a5474af99ca8');\n",
       "        const dataTable =\n",
       "          await google.colab.kernel.invokeFunction('convertToInteractive',\n",
       "                                                    [key], {});\n",
       "        if (!dataTable) return;\n",
       "\n",
       "        const docLinkHtml = 'Like what you see? Visit the ' +\n",
       "          '<a target=\"_blank\" href=https://colab.research.google.com/notebooks/data_table.ipynb>data table notebook</a>'\n",
       "          + ' to learn more about interactive tables.';\n",
       "        element.innerHTML = '';\n",
       "        dataTable['output_type'] = 'display_data';\n",
       "        await google.colab.output.renderOutput(dataTable, element);\n",
       "        const docLink = document.createElement('div');\n",
       "        docLink.innerHTML = docLinkHtml;\n",
       "        element.appendChild(docLink);\n",
       "      }\n",
       "    </script>\n",
       "  </div>\n",
       "\n",
       "\n",
       "<div id=\"df-ae96793b-fcb5-4ed2-b448-95538ab70364\">\n",
       "  <button class=\"colab-df-quickchart\" onclick=\"quickchart('df-ae96793b-fcb5-4ed2-b448-95538ab70364')\"\n",
       "            title=\"Suggest charts\"\n",
       "            style=\"display:none;\">\n",
       "\n",
       "<svg xmlns=\"http://www.w3.org/2000/svg\" height=\"24px\"viewBox=\"0 0 24 24\"\n",
       "     width=\"24px\">\n",
       "    <g>\n",
       "        <path d=\"M19 3H5c-1.1 0-2 .9-2 2v14c0 1.1.9 2 2 2h14c1.1 0 2-.9 2-2V5c0-1.1-.9-2-2-2zM9 17H7v-7h2v7zm4 0h-2V7h2v10zm4 0h-2v-4h2v4z\"/>\n",
       "    </g>\n",
       "</svg>\n",
       "  </button>\n",
       "\n",
       "<style>\n",
       "  .colab-df-quickchart {\n",
       "      --bg-color: #E8F0FE;\n",
       "      --fill-color: #1967D2;\n",
       "      --hover-bg-color: #E2EBFA;\n",
       "      --hover-fill-color: #174EA6;\n",
       "      --disabled-fill-color: #AAA;\n",
       "      --disabled-bg-color: #DDD;\n",
       "  }\n",
       "\n",
       "  [theme=dark] .colab-df-quickchart {\n",
       "      --bg-color: #3B4455;\n",
       "      --fill-color: #D2E3FC;\n",
       "      --hover-bg-color: #434B5C;\n",
       "      --hover-fill-color: #FFFFFF;\n",
       "      --disabled-bg-color: #3B4455;\n",
       "      --disabled-fill-color: #666;\n",
       "  }\n",
       "\n",
       "  .colab-df-quickchart {\n",
       "    background-color: var(--bg-color);\n",
       "    border: none;\n",
       "    border-radius: 50%;\n",
       "    cursor: pointer;\n",
       "    display: none;\n",
       "    fill: var(--fill-color);\n",
       "    height: 32px;\n",
       "    padding: 0;\n",
       "    width: 32px;\n",
       "  }\n",
       "\n",
       "  .colab-df-quickchart:hover {\n",
       "    background-color: var(--hover-bg-color);\n",
       "    box-shadow: 0 1px 2px rgba(60, 64, 67, 0.3), 0 1px 3px 1px rgba(60, 64, 67, 0.15);\n",
       "    fill: var(--button-hover-fill-color);\n",
       "  }\n",
       "\n",
       "  .colab-df-quickchart-complete:disabled,\n",
       "  .colab-df-quickchart-complete:disabled:hover {\n",
       "    background-color: var(--disabled-bg-color);\n",
       "    fill: var(--disabled-fill-color);\n",
       "    box-shadow: none;\n",
       "  }\n",
       "\n",
       "  .colab-df-spinner {\n",
       "    border: 2px solid var(--fill-color);\n",
       "    border-color: transparent;\n",
       "    border-bottom-color: var(--fill-color);\n",
       "    animation:\n",
       "      spin 1s steps(1) infinite;\n",
       "  }\n",
       "\n",
       "  @keyframes spin {\n",
       "    0% {\n",
       "      border-color: transparent;\n",
       "      border-bottom-color: var(--fill-color);\n",
       "      border-left-color: var(--fill-color);\n",
       "    }\n",
       "    20% {\n",
       "      border-color: transparent;\n",
       "      border-left-color: var(--fill-color);\n",
       "      border-top-color: var(--fill-color);\n",
       "    }\n",
       "    30% {\n",
       "      border-color: transparent;\n",
       "      border-left-color: var(--fill-color);\n",
       "      border-top-color: var(--fill-color);\n",
       "      border-right-color: var(--fill-color);\n",
       "    }\n",
       "    40% {\n",
       "      border-color: transparent;\n",
       "      border-right-color: var(--fill-color);\n",
       "      border-top-color: var(--fill-color);\n",
       "    }\n",
       "    60% {\n",
       "      border-color: transparent;\n",
       "      border-right-color: var(--fill-color);\n",
       "    }\n",
       "    80% {\n",
       "      border-color: transparent;\n",
       "      border-right-color: var(--fill-color);\n",
       "      border-bottom-color: var(--fill-color);\n",
       "    }\n",
       "    90% {\n",
       "      border-color: transparent;\n",
       "      border-bottom-color: var(--fill-color);\n",
       "    }\n",
       "  }\n",
       "</style>\n",
       "\n",
       "  <script>\n",
       "    async function quickchart(key) {\n",
       "      const quickchartButtonEl =\n",
       "        document.querySelector('#' + key + ' button');\n",
       "      quickchartButtonEl.disabled = true;  // To prevent multiple clicks.\n",
       "      quickchartButtonEl.classList.add('colab-df-spinner');\n",
       "      try {\n",
       "        const charts = await google.colab.kernel.invokeFunction(\n",
       "            'suggestCharts', [key], {});\n",
       "      } catch (error) {\n",
       "        console.error('Error during call to suggestCharts:', error);\n",
       "      }\n",
       "      quickchartButtonEl.classList.remove('colab-df-spinner');\n",
       "      quickchartButtonEl.classList.add('colab-df-quickchart-complete');\n",
       "    }\n",
       "    (() => {\n",
       "      let quickchartButtonEl =\n",
       "        document.querySelector('#df-ae96793b-fcb5-4ed2-b448-95538ab70364 button');\n",
       "      quickchartButtonEl.style.display =\n",
       "        google.colab.kernel.accessAllowed ? 'block' : 'none';\n",
       "    })();\n",
       "  </script>\n",
       "</div>\n",
       "    </div>\n",
       "  </div>\n"
      ],
      "text/plain": [
       "                                        preprocessed  label  review_length\n",
       "0  One reviewer mentioned watching Oz episode hoo...      1            214\n",
       "1  wonderful little production . filming techniqu...      1            102\n",
       "2  thought wonderful way spend time hot summer we...      1             98\n",
       "3  Basically family little boy Jake think zombie ...      0             79\n",
       "4  Petter Mattei Love Time Money visually stunnin...      1            152"
      ]
     },
     "execution_count": 5,
     "metadata": {},
     "output_type": "execute_result"
    }
   ],
   "source": [
    "# check the length of the processed reviews\n",
    "data['review_length']=data['preprocessed'].apply(lambda x: len(x.split()))\n",
    "data.head()"
   ]
  },
  {
   "cell_type": "code",
   "execution_count": 6,
   "metadata": {
    "colab": {
     "base_uri": "https://localhost:8080/",
     "height": 464
    },
    "executionInfo": {
     "elapsed": 719,
     "status": "ok",
     "timestamp": 1703210665761,
     "user": {
      "displayName": "Melany S",
      "userId": "05076739692052721239"
     },
     "user_tz": 0
    },
    "id": "tamtpkW3rD7D",
    "outputId": "ee59f00e-0828-4ef9-dd4f-17fa440bc496"
   },
   "outputs": [
    {
     "data": {
      "image/png": "[encoded data removed]",
      "text/plain": [
       "<Figure size 1500x500 with 1 Axes>"
      ]
     },
     "metadata": {},
     "output_type": "display_data"
    }
   ],
   "source": [
    "with plt.style.context(style='bmh'):\n",
    "    data['review_length'].hist(figsize=(15,5))\n",
    "    plt.title(label='hist plot for review length feature')\n",
    "    plt.show()"
   ]
  },
  {
   "cell_type": "code",
   "execution_count": 7,
   "metadata": {
    "colab": {
     "base_uri": "https://localhost:8080/"
    },
    "executionInfo": {
     "elapsed": 4047,
     "status": "ok",
     "timestamp": 1703210671720,
     "user": {
      "displayName": "Melany S",
      "userId": "05076739692052721239"
     },
     "user_tz": 0
    },
    "id": "yG9Oo_oZr-PQ",
    "outputId": "5c844d78-ddcc-43df-f2cb-a39eff1a6522"
   },
   "outputs": [
    {
     "name": "stderr",
     "output_type": "stream",
     "text": [
      "100%|██████████| 50000/50000 [00:01<00:00, 25611.47it/s]"
     ]
    },
    {
     "name": "stdout",
     "output_type": "stream",
     "text": [
      "Review 1: [172, 1023, 873, 70, 3614, 167, 2924, 1, 102, 2]\n",
      "Review 2: [300, 50, 220, 1, 1204, 1535, 17655, 3, 74, 3]\n",
      "Review 3: [84, 300, 26, 983, 10, 788, 1697, 2532, 2, 1067]\n",
      "Review 4: [2314, 121, 50, 217, 3121, 33, 607, 4182, 542, 825]\n",
      "Review 5: [70690, 10390, 1021, 1859, 7387, 2190, 1248, 5, 40, 1]\n"
     ]
    },
    {
     "name": "stderr",
     "output_type": "stream",
     "text": [
      "\n"
     ]
    }
   ],
   "source": [
    "# get all processed reviews\n",
    "reviews = data.preprocessed.values\n",
    "\n",
    "# merge into single variable, separated by whitespaces\n",
    "words = ' '.join(reviews)\n",
    "\n",
    "# obtain list of words\n",
    "words = words.split()\n",
    "\n",
    "# building a vocabulary and creating mappings between words and integers using a Counter\n",
    "# count the occurrences of words.\n",
    "\n",
    "# counting the occurrences of each word\n",
    "counter = Counter(words)\n",
    "\n",
    "# sorting the words by their frequency in descending order\n",
    "vocab = sorted(counter, key=counter.get, reverse=True)\n",
    "\n",
    "# Create a mapping from integer to word\n",
    "int2word = dict(enumerate(vocab, 1))\n",
    "\n",
    "# Add a special token for padding at index 0\n",
    "int2word[0] = '<PAD>'\n",
    "\n",
    "# creating a mapping from word to integer\n",
    "word2int = {word: id for id, word in int2word.items()}\n",
    "\n",
    "# encoding the words in the reviews text\n",
    "# by using the word-to-integer mapping to replace words with their integer indices\n",
    "reviews_encoded = [[word2int[word] for word in review.split()] for review in tqdm(reviews)]\n",
    "\n",
    "# showing the 10 encoded words for the first 5 reviews\n",
    "for i in range(5):\n",
    "    print(f\"Review {i + 1}: {reviews_encoded[i][:10]}\")"
   ]
  },
  {
   "cell_type": "code",
   "execution_count": 8,
   "metadata": {
    "colab": {
     "base_uri": "https://localhost:8080/"
    },
    "executionInfo": {
     "elapsed": 600,
     "status": "ok",
     "timestamp": 1703210672318,
     "user": {
      "displayName": "Melany S",
      "userId": "05076739692052721239"
     },
     "user_tz": 0
    },
    "id": "GgzD1_bRsH0-",
    "outputId": "c358c644-01ba-44e8-c61e-7c128238a566"
   },
   "outputs": [
    {
     "name": "stdout",
     "output_type": "stream",
     "text": [
      "[[  172  1023   873    70  3614   167  2924     1   102     2]\n",
      " [  300    50   220     1  1204  1535 17655     3    74     3]\n",
      " [   84   300    26   983    10   788  1697  2532     2  1067]\n",
      " [ 2314   121    50   217  3121    33   607  4182   542   825]\n",
      " [70690 10390  1021  1859  7387  2190  1248     5    40     1]\n",
      " [ 2691     3    10   337     4     2    13 42241     2  2846]\n",
      " [  178    14     8    17 12322  1823 55638   106  4989   379]\n",
      " [   27   389     2  1276  3908   147    30  2854     1    30]\n",
      " [47622   922   330     5   162   722    70     5     1  1242]\n",
      " [    8   110  2179  5479  1896     8     4     1   107    74]]\n"
     ]
    }
   ],
   "source": [
    "# Padding sequences function - reviews do not have the same length so we will need set a max sequence length\n",
    "def pad_features(reviews, pad_id, seq_length=128):\n",
    "    # Creating a matrix to store the padded features\n",
    "    features = np.full((len(reviews), seq_length), pad_id, dtype=int)\n",
    "    # Looping through each review and pad or trim to the specified sequence length\n",
    "    for i, row in enumerate(reviews):\n",
    "        # If the review is longer than seq_length, trim it\n",
    "        features[i, :len(row)] = np.array(row)[:seq_length]\n",
    "    return features\n",
    "\n",
    "# Set the desired sequence length\n",
    "seq_length = 128\n",
    "\n",
    "# Padding the encoded reviews using the pad_features function\n",
    "features = pad_features(reviews_encoded, pad_id=word2int['<PAD>'], seq_length=seq_length)\n",
    "\n",
    "# Assertions to check the dimensions\n",
    "assert len(features) == len(reviews_encoded)\n",
    "assert len(features[0]) == seq_length\n",
    "\n",
    "# Print the first 10 rows and columns for inspection\n",
    "print(features[:10, :10])"
   ]
  },
  {
   "cell_type": "code",
   "execution_count": 9,
   "metadata": {
    "executionInfo": {
     "elapsed": 1,
     "status": "ok",
     "timestamp": 1703210673132,
     "user": {
      "displayName": "Melany S",
      "userId": "05076739692052721239"
     },
     "user_tz": 0
    },
    "id": "aV-wwRMpsLe5"
   },
   "outputs": [],
   "source": [
    "# create numpy array for labels column\n",
    "labels = data.label.to_numpy()"
   ]
  },
  {
   "cell_type": "code",
   "execution_count": 10,
   "metadata": {
    "colab": {
     "base_uri": "https://localhost:8080/"
    },
    "executionInfo": {
     "elapsed": 292,
     "status": "ok",
     "timestamp": 1703210673744,
     "user": {
      "displayName": "Melany S",
      "userId": "05076739692052721239"
     },
     "user_tz": 0
    },
    "id": "IDps357zsMtC",
    "outputId": "ee34e50f-901a-44fb-b2b8-ab3b27d0c76f"
   },
   "outputs": [
    {
     "name": "stdout",
     "output_type": "stream",
     "text": [
      "Feature Shapes:\n",
      "===============\n",
      "Train set: (35000, 128)\n",
      "Validation set: (4500, 128)\n",
      "Test set: (10500, 128)\n",
      "17510 17490\n",
      "2243 2257\n",
      "5247 5253\n"
     ]
    }
   ],
   "source": [
    "# Train-Test split parameters\n",
    "train_size = 0.7  # We will use 70% of the whole data as the training set\n",
    "val_size = 0.3    # We will use 30% of the remaining data as the validation set\n",
    "\n",
    "# Make the training set\n",
    "split_id = int(len(features) * train_size)\n",
    "train_x, remain_x = features[:split_id], features[split_id:]\n",
    "train_y, remain_y = labels[:split_id], labels[split_id:]\n",
    "\n",
    "# Making validation and test sets\n",
    "split_val_id = int(len(remain_x) * val_size)\n",
    "val_x, test_x = remain_x[:split_val_id], remain_x[split_val_id:]\n",
    "val_y, test_y = remain_y[:split_val_id], remain_y[split_val_id:]\n",
    "\n",
    "# Printing out the shape of the datasets\n",
    "print('Feature Shapes:')\n",
    "print('===============')\n",
    "print('Train set: {}'.format(train_x.shape))\n",
    "print('Validation set: {}'.format(val_x.shape))\n",
    "print('Test set: {}'.format(test_x.shape))\n",
    "\n",
    "# Print the class distribution in each set\n",
    "print(len(train_y[train_y == 0]), len(train_y[train_y == 1]))\n",
    "print(len(val_y[val_y == 0]), len(val_y[val_y == 1]))\n",
    "print(len(test_y[test_y == 0]), len(test_y[test_y == 1]))"
   ]
  },
  {
   "cell_type": "code",
   "execution_count": 11,
   "metadata": {
    "executionInfo": {
     "elapsed": 289,
     "status": "ok",
     "timestamp": 1703210676683,
     "user": {
      "displayName": "Melany S",
      "userId": "05076739692052721239"
     },
     "user_tz": 0
    },
    "id": "AyaW1m99sXy2"
   },
   "outputs": [],
   "source": [
    "# Defining the batch size\n",
    "batch_size = 64\n",
    "\n",
    "# Creating tensor datasets\n",
    "trainset = TensorDataset(torch.from_numpy(train_x), torch.from_numpy(train_y))\n",
    "validset = TensorDataset(torch.from_numpy(val_x), torch.from_numpy(val_y))\n",
    "testset = TensorDataset(torch.from_numpy(test_x), torch.from_numpy(test_y))\n",
    "\n",
    "# Creating data loaders\n",
    "trainloader = DataLoader(trainset, shuffle=True, batch_size=batch_size)\n",
    "valloader = DataLoader(validset, shuffle=True, batch_size=batch_size)\n",
    "testloader = DataLoader(testset, shuffle=True, batch_size=batch_size)"
   ]
  },
  {
   "cell_type": "code",
   "execution_count": 12,
   "metadata": {
    "colab": {
     "base_uri": "https://localhost:8080/"
    },
    "executionInfo": {
     "elapsed": 2,
     "status": "ok",
     "timestamp": 1703210678475,
     "user": {
      "displayName": "Melany S",
      "userId": "05076739692052721239"
     },
     "user_tz": 0
    },
    "id": "wV8j-RYpsbOV",
    "outputId": "57a56950-5dd7-4e55-f22e-e491ac2a6ec9"
   },
   "outputs": [
    {
     "name": "stdout",
     "output_type": "stream",
     "text": [
      "Sample batch size:  torch.Size([64, 128])\n",
      "Sample batch input: \n",
      " tensor([[ 6748,   424,   254,  ...,     0,     0,     0],\n",
      "        [   49,    38,     4,  ...,     0,     0,     0],\n",
      "        [ 1089,    51,   257,  ...,     0,     0,     0],\n",
      "        ...,\n",
      "        [ 1838,     2, 23756,  ...,     2,    90,     1],\n",
      "        [  500,     2,  4103,  ...,     0,     0,     0],\n",
      "        [17334,     2,  2516,  ...,     2, 25511,  2486]])\n",
      "\n",
      "Sample label size:  torch.Size([64])\n",
      "Sample label input: \n",
      " tensor([0, 1, 1, 1, 0, 0, 0, 0, 0, 1, 1, 0, 1, 1, 0, 1, 0, 0, 1, 0, 1, 1, 1, 0,\n",
      "        1, 0, 1, 1, 0, 0, 0, 0, 0, 0, 1, 0, 1, 1, 1, 0, 1, 0, 1, 0, 0, 0, 1, 0,\n",
      "        0, 0, 0, 1, 0, 0, 0, 1, 0, 0, 1, 1, 1, 0, 1, 0])\n"
     ]
    }
   ],
   "source": [
    "# Check sample batches from the training loader\n",
    "dataiter = iter(trainloader)\n",
    "x, y = next(dataiter)\n",
    "\n",
    "# Print information about the sample batch\n",
    "print('Sample batch size: ', x.size())   # batch_size, seq_length\n",
    "print('Sample batch input: \\n', x)\n",
    "print()\n",
    "print('Sample label size: ', y.size())   # batch_size\n",
    "print('Sample label input: \\n', y)"
   ]
  },
  {
   "cell_type": "code",
   "execution_count": 13,
   "metadata": {
    "colab": {
     "base_uri": "https://localhost:8080/"
    },
    "executionInfo": {
     "elapsed": 288,
     "status": "ok",
     "timestamp": 1703210681165,
     "user": {
      "displayName": "Melany S",
      "userId": "05076739692052721239"
     },
     "user_tz": 0
    },
    "id": "2Prq_b57xMt_",
    "outputId": "1677f426-6cd6-41ca-c057-754fa7baa635"
   },
   "outputs": [
    {
     "data": {
      "text/plain": [
       "True"
      ]
     },
     "execution_count": 13,
     "metadata": {},
     "output_type": "execute_result"
    }
   ],
   "source": [
    "torch.cuda.is_available()\n",
    "# ref: https://stackoverflow.com/questions/50560395/how-to-install-cuda-in-google-colab-gpus\n",
    "# Output would be True if Pytorch is using GPU otherwise it would be False."
   ]
  },
  {
   "cell_type": "code",
   "execution_count": 14,
   "metadata": {
    "colab": {
     "base_uri": "https://localhost:8080/"
    },
    "executionInfo": {
     "elapsed": 270,
     "status": "ok",
     "timestamp": 1703210683542,
     "user": {
      "displayName": "Melany S",
      "userId": "05076739692052721239"
     },
     "user_tz": 0
    },
    "id": "OYmVXYAUsdzA",
    "outputId": "89d201f0-5fa1-4c53-af7b-05aac8dae2e8"
   },
   "outputs": [
    {
     "name": "stdout",
     "output_type": "stream",
     "text": [
      "cuda\n"
     ]
    }
   ],
   "source": [
    "# define training device\n",
    "device = torch.device(\"cuda\" if torch.cuda.is_available() else \"cpu\")\n",
    "print(device)"
   ]
  },
  {
   "cell_type": "code",
   "execution_count": 15,
   "metadata": {
    "executionInfo": {
     "elapsed": 394,
     "status": "ok",
     "timestamp": 1703210686099,
     "user": {
      "displayName": "Melany S",
      "userId": "05076739692052721239"
     },
     "user_tz": 0
    },
    "id": "eWZU4iEbsf9L"
   },
   "outputs": [],
   "source": [
    "# Model architecture for sentiment analysis using an LSTM-based neural network\n",
    "class SentimentModel(nn.Module):\n",
    "    def __init__(self, vocab_size, output_size, hidden_size=128, embedding_size=400, n_layers=2, dropout=0.2):\n",
    "        super(SentimentModel, self).__init__()\n",
    "\n",
    "        # Embedding layer to map input tokens into vector representations\n",
    "        self.embedding = nn.Embedding(vocab_size, embedding_size)\n",
    "\n",
    "        # LSTM layer provided by PyTorch library\n",
    "        self.lstm = nn.LSTM(embedding_size, hidden_size, n_layers, dropout=dropout, batch_first=True)\n",
    "\n",
    "        # Dropout layer for regularization\n",
    "        self.dropout = nn.Dropout(0.3)\n",
    "\n",
    "        # Linear layer for the final output\n",
    "        self.fc = nn.Linear(hidden_size, output_size)\n",
    "\n",
    "        # Sigmoid layer as we are performing binary classification\n",
    "        self.sigmoid = nn.Sigmoid()\n",
    "\n",
    "    def forward(self, x):\n",
    "        # Convert input features to the 'long' data type\n",
    "        x = x.long()\n",
    "\n",
    "        # Map input tokens to vector representations using the embedding layer\n",
    "        x = self.embedding(x)\n",
    "\n",
    "        # Pass the input forward through the LSTM layer\n",
    "        o, _ = self.lstm(x)\n",
    "\n",
    "        # Retrieve the last output of the sequence\n",
    "        o = o[:, -1, :]\n",
    "\n",
    "        # Apply dropout and pass through the fully connected layer\n",
    "        o = self.dropout(o)\n",
    "        o = self.fc(o)\n",
    "\n",
    "        # Apply sigmoid activation for binary classification\n",
    "        o = self.sigmoid(o)\n",
    "\n",
    "        return o\n",
    "# reference used: https://galhever.medium.com/sentiment-analysis-with-pytorch-part-3-cnn-model-7bb30712abd7"
   ]
  },
  {
   "cell_type": "code",
   "execution_count": 16,
   "metadata": {
    "colab": {
     "base_uri": "https://localhost:8080/"
    },
    "executionInfo": {
     "elapsed": 685,
     "status": "ok",
     "timestamp": 1703210691313,
     "user": {
      "displayName": "Melany S",
      "userId": "05076739692052721239"
     },
     "user_tz": 0
    },
    "id": "QIpia0Lesgzf",
    "outputId": "7c2d68e4-c7f5-4237-952b-4b706425737d"
   },
   "outputs": [
    {
     "name": "stdout",
     "output_type": "stream",
     "text": [
      "SentimentModel(\n",
      "  (embedding): Embedding(120982, 256)\n",
      "  (lstm): LSTM(256, 512, num_layers=2, batch_first=True, dropout=0.25)\n",
      "  (dropout): Dropout(p=0.3, inplace=False)\n",
      "  (fc): Linear(in_features=512, out_features=1, bias=True)\n",
      "  (sigmoid): Sigmoid()\n",
      ")\n"
     ]
    }
   ],
   "source": [
    "# Model hyperparameters\n",
    "# - `vocab_size`: The size of the vocabulary, representing the number of unique tokens in the input data.\n",
    "# - `output_size`: The size of the output, typically 1 for binary classification (positive or negative sentiment).\n",
    "# - `embedding_size`: The dimensionality of the embedding vectors used to represent each token in the input.\n",
    "# - `hidden_size`: The number of hidden units in the LSTM layer, determining the capacity of the model to capture information.\n",
    "# - `n_layers`: The number of layers in the LSTM, allowing the model to learn hierarchical features.\n",
    "# - `dropout`: The dropout rate, a regularization technique applied to prevent overfitting by randomly dropping units during training.\n",
    "vocab_size = len(word2int)  # Assuming `word2int` is a mapping of words to unique integer indices\n",
    "output_size = 1\n",
    "embedding_size = 256\n",
    "hidden_size = 512\n",
    "n_layers = 2\n",
    "dropout = 0.25\n",
    "\n",
    "# Model initialization\n",
    "# - Create an instance of the SentimentModel class with the specified hyperparameters.\n",
    "# - This initializes the neural network with the defined architecture and sets the hyperparameters.\n",
    "model = SentimentModel(vocab_size, output_size, hidden_size, embedding_size, n_layers, dropout)\n",
    "print(model)"
   ]
  },
  {
   "cell_type": "code",
   "execution_count": 17,
   "metadata": {
    "colab": {
     "base_uri": "https://localhost:8080/"
    },
    "executionInfo": {
     "elapsed": 191885,
     "status": "ok",
     "timestamp": 1703210889557,
     "user": {
      "displayName": "Melany S",
      "userId": "05076739692052721239"
     },
     "user_tz": 0
    },
    "id": "bH3BoKkysncg",
    "outputId": "b1d716ef-48d7-47cc-9f65-8fd80ee8735d"
   },
   "outputs": [
    {
     "name": "stderr",
     "output_type": "stream",
     "text": [
      "Training:  10%|█         | 1/10 [00:22<03:22, 22.52s/it, Val Loss: 0.692 | Val Acc: 0.506]"
     ]
    },
    {
     "name": "stdout",
     "output_type": "stream",
     "text": [
      "Epoch 1/10 | Train Loss: 0.699 Train Acc: 0.507 | Val Loss: 0.692 Val Acc: 0.506\n"
     ]
    },
    {
     "name": "stderr",
     "output_type": "stream",
     "text": [
      "Training:  30%|███       | 3/10 [00:43<01:42, 14.59s/it, Val Loss: 0.650 | Val Acc: 0.646]"
     ]
    },
    {
     "name": "stdout",
     "output_type": "stream",
     "text": [
      "Epoch 2/10 | Train Loss: 0.682 Train Acc: 0.551 | Val Loss: 0.650 Val Acc: 0.646\n"
     ]
    },
    {
     "name": "stderr",
     "output_type": "stream",
     "text": [
      "Training:  40%|████      | 4/10 [01:04<01:42, 17.16s/it, Val Loss: 0.364 | Val Acc: 0.844]"
     ]
    },
    {
     "name": "stdout",
     "output_type": "stream",
     "text": [
      "Epoch 3/10 | Train Loss: 0.447 Train Acc: 0.804 | Val Loss: 0.364 Val Acc: 0.844\n"
     ]
    },
    {
     "name": "stderr",
     "output_type": "stream",
     "text": [
      "Training:  60%|██████    | 6/10 [01:25<00:57, 14.39s/it, Val Loss: 0.342 | Val Acc: 0.858]"
     ]
    },
    {
     "name": "stdout",
     "output_type": "stream",
     "text": [
      "Epoch 4/10 | Train Loss: 0.263 Train Acc: 0.901 | Val Loss: 0.342 Val Acc: 0.858\n"
     ]
    },
    {
     "name": "stderr",
     "output_type": "stream",
     "text": [
      "Training:  70%|███████   | 7/10 [01:47<00:49, 16.57s/it, Training batch 5/547]"
     ]
    },
    {
     "name": "stdout",
     "output_type": "stream",
     "text": [
      "Epoch 5/10 | Train Loss: 0.162 Train Acc: 0.944 | Val Loss: 0.383 Val Acc: 0.855\n",
      "[WARNING] Validation loss did not improve (0.342 --> 0.383)\n"
     ]
    },
    {
     "name": "stderr",
     "output_type": "stream",
     "text": [
      "Training:  90%|█████████ | 9/10 [02:07<00:17, 17.90s/it, Training batch 5/547]"
     ]
    },
    {
     "name": "stdout",
     "output_type": "stream",
     "text": [
      "Epoch 6/10 | Train Loss: 0.098 Train Acc: 0.970 | Val Loss: 0.480 Val Acc: 0.853\n",
      "[WARNING] Validation loss did not improve (0.342 --> 0.480)\n"
     ]
    },
    {
     "name": "stderr",
     "output_type": "stream",
     "text": [
      "Training: 100%|██████████| 10/10 [02:28<00:00, 14.31s/it, Training batch 5/547]"
     ]
    },
    {
     "name": "stdout",
     "output_type": "stream",
     "text": [
      "Epoch 7/10 | Train Loss: 0.057 Train Acc: 0.985 | Val Loss: 0.498 Val Acc: 0.850\n",
      "[WARNING] Validation loss did not improve (0.342 --> 0.498)\n"
     ]
    },
    {
     "name": "stderr",
     "output_type": "stream",
     "text": [
      "Training: 11it [02:49, 15.94s/it, Training batch 5/547]"
     ]
    },
    {
     "name": "stdout",
     "output_type": "stream",
     "text": [
      "Epoch 8/10 | Train Loss: 0.037 Train Acc: 0.991 | Val Loss: 0.520 Val Acc: 0.857\n",
      "[WARNING] Validation loss did not improve (0.342 --> 0.520)\n"
     ]
    },
    {
     "name": "stderr",
     "output_type": "stream",
     "text": [
      "Training:  80%|████████  | 8/10 [03:09<00:47, 23.74s/it, Val Loss: 0.737 | Val Acc: 0.849]"
     ]
    },
    {
     "name": "stdout",
     "output_type": "stream",
     "text": [
      "Epoch 9/10 | Train Loss: 0.027 Train Acc: 0.993 | Val Loss: 0.737 Val Acc: 0.849\n",
      "[WARNING] Validation loss did not improve (0.342 --> 0.737)\n",
      "Early stopped at Epoch-9\n"
     ]
    },
    {
     "name": "stderr",
     "output_type": "stream",
     "text": [
      "\n"
     ]
    }
   ],
   "source": [
    "# Training configuration\n",
    "lr = 0.001\n",
    "criterion = nn.BCELoss()\n",
    "optim = Adam(model.parameters(), lr=lr)\n",
    "grad_clip = 5\n",
    "epochs = 10\n",
    "print_every = 1\n",
    "history = {'train_loss': [],\n",
    "           'train_acc': [],\n",
    "           'val_loss': [],\n",
    "           'val_acc': [],\n",
    "           'epochs': epochs}\n",
    "es_limit = 5\n",
    "\n",
    "# Train loop\n",
    "model = model.to(device)\n",
    "epochloop = tqdm(range(epochs), position=0, desc='Training', leave=True)\n",
    "\n",
    "# Early stop trigger\n",
    "es_trigger = 0\n",
    "val_loss_min = np.Inf\n",
    "\n",
    "# Training and Validation Loop\n",
    "\n",
    "for e in epochloop:\n",
    "\n",
    "    # training mode\n",
    "\n",
    "    # Set the model to training mode to enable gradient calculation\n",
    "    model.train()\n",
    "\n",
    "    train_loss = 0\n",
    "    train_acc = 0\n",
    "\n",
    "    # Iterate over training batches\n",
    "    for id, (feature, target) in enumerate(trainloader):\n",
    "        # Add epoch meta info\n",
    "        epochloop.set_postfix_str(f'Training batch {id}/{len(trainloader)}')\n",
    "\n",
    "        # Move data to the device\n",
    "        feature, target = feature.to(device), target.to(device)\n",
    "\n",
    "        # Reset optimizer\n",
    "        optim.zero_grad()\n",
    "\n",
    "        # Forward pass\n",
    "        out = model(feature)\n",
    "\n",
    "        # Calculate accuracy\n",
    "        predicted = torch.tensor([1 if i == True else 0 for i in out > 0.5], device=device)\n",
    "        equals = predicted == target\n",
    "        acc = torch.mean(equals.type(torch.FloatTensor))\n",
    "        train_acc += acc.item()\n",
    "\n",
    "        # Calculate loss and perform backpropagation\n",
    "        loss = criterion(out.squeeze(), target.float())\n",
    "        train_loss += loss.item()\n",
    "        loss.backward()\n",
    "\n",
    "        # Clip gradients to prevent exploding gradients\n",
    "        nn.utils.clip_grad_norm_(model.parameters(), grad_clip)\n",
    "\n",
    "        # Update optimizer\n",
    "        optim.step()\n",
    "\n",
    "        # Free some memory\n",
    "        del feature, target, predicted\n",
    "\n",
    "    # Store training metrics\n",
    "    history['train_loss'].append(train_loss / len(trainloader))\n",
    "    history['train_acc'].append(train_acc / len(trainloader))\n",
    "\n",
    "\n",
    "    # validation mode\n",
    "\n",
    "    # Set the model to evaluation mode to disable gradient calculation\n",
    "    model.eval()\n",
    "\n",
    "    val_loss = 0\n",
    "    val_acc = 0\n",
    "\n",
    "    with torch.no_grad():\n",
    "        # Iterate over validation batches\n",
    "        for id, (feature, target) in enumerate(valloader):\n",
    "            # Add epoch meta info\n",
    "            epochloop.set_postfix_str(f'Validation batch {id}/{len(valloader)}')\n",
    "\n",
    "            # Move data to the device\n",
    "            feature, target = feature.to(device), target.to(device)\n",
    "\n",
    "            # Forward pass\n",
    "            out = model(feature)\n",
    "\n",
    "            # Calculate accuracy\n",
    "            predicted = torch.tensor([1 if i == True else 0 for i in out > 0.5], device=device)\n",
    "            equals = predicted == target\n",
    "            acc = torch.mean(equals.type(torch.FloatTensor))\n",
    "            val_acc += acc.item()\n",
    "\n",
    "            # Calculate loss\n",
    "            loss = criterion(out.squeeze(), target.float())\n",
    "            val_loss += loss.item()\n",
    "\n",
    "            # Free some memory\n",
    "            del feature, target, predicted\n",
    "\n",
    "        # Store validation metrics\n",
    "        history['val_loss'].append(val_loss / len(valloader))\n",
    "        history['val_acc'].append(val_acc / len(valloader))\n",
    "\n",
    "    # Reset model to training mode\n",
    "    model.train()\n",
    "\n",
    "    # Add epoch meta info\n",
    "    epochloop.set_postfix_str(f'Val Loss: {val_loss / len(valloader):.3f} | Val Acc: {val_acc / len(valloader):.3f}')\n",
    "\n",
    "    # Print epoch information\n",
    "    if (e+1) % print_every == 0:\n",
    "        epochloop.write(f'Epoch {e+1}/{epochs} | Train Loss: {train_loss / len(trainloader):.3f} Train Acc: {train_acc / len(trainloader):.3f} | Val Loss: {val_loss / len(valloader):.3f} Val Acc: {val_acc / len(valloader):.3f}')\n",
    "        epochloop.update()\n",
    "\n",
    "    # Save model if validation loss decreases\n",
    "    if val_loss / len(valloader) <= val_loss_min:\n",
    "        torch.save(model.state_dict(), './sentiment_lstm.pt')\n",
    "        val_loss_min = val_loss / len(valloader)\n",
    "        es_trigger = 0\n",
    "    else:\n",
    "        epochloop.write(f'[WARNING] Validation loss did not improve ({val_loss_min:.3f} --> {val_loss / len(valloader):.3f})')\n",
    "        es_trigger += 1\n",
    "\n",
    "    # Force early stop\n",
    "    if es_trigger >= es_limit:\n",
    "        epochloop.write(f'Early stopped at Epoch-{e+1}')\n",
    "        # Update epochs history\n",
    "        history['epochs'] = e+1\n",
    "        break\n"
   ]
  },
  {
   "cell_type": "code",
   "execution_count": 18,
   "metadata": {
    "colab": {
     "base_uri": "https://localhost:8080/",
     "height": 676
    },
    "executionInfo": {
     "elapsed": 364,
     "status": "ok",
     "timestamp": 1703210913523,
     "user": {
      "displayName": "Melany S",
      "userId": "05076739692052721239"
     },
     "user_tz": 0
    },
    "id": "zKN_omdLyRqM",
    "outputId": "887f1910-450b-41b9-8f74-00d163dc79db"
   },
   "outputs": [
    {
     "data": {
      "image/png": "[encoded data removed]",
      "text/plain": [
       "<Figure size 600x800 with 1 Axes>"
      ]
     },
     "metadata": {},
     "output_type": "display_data"
    }
   ],
   "source": [
    "# plotting loss\n",
    "plt.figure(figsize=(6, 8))\n",
    "plt.plot(range(history['epochs']), history['train_acc'], label='Training Accuracy')\n",
    "plt.plot(range(history['epochs']), history['val_acc'], label='Validation Accuracy')\n",
    "plt.legend()\n",
    "plt.show()"
   ]
  },
  {
   "cell_type": "code",
   "execution_count": 19,
   "metadata": {
    "colab": {
     "base_uri": "https://localhost:8080/"
    },
    "executionInfo": {
     "elapsed": 2511,
     "status": "ok",
     "timestamp": 1703210919090,
     "user": {
      "displayName": "Melany S",
      "userId": "05076739692052721239"
     },
     "user_tz": 0
    },
    "id": "ePYQVyxzuK_m",
    "outputId": "b1f34045-69cb-4cb3-c8b4-d512974baae0"
   },
   "outputs": [
    {
     "name": "stderr",
     "output_type": "stream",
     "text": [
      "Inference: 100%|██████████| 165/165 [00:02<00:00, 77.49it/s]"
     ]
    },
    {
     "name": "stdout",
     "output_type": "stream",
     "text": [
      "Accuracy: 0.8472, Loss: 0.7441\n"
     ]
    },
    {
     "name": "stderr",
     "output_type": "stream",
     "text": [
      "\n"
     ]
    }
   ],
   "source": [
    "# predicting data with unseen data which wasn't included in training\n",
    "# test loop\n",
    "model.eval()\n",
    "\n",
    "# metrics\n",
    "test_loss = 0\n",
    "test_acc = 0\n",
    "\n",
    "all_target = []\n",
    "all_predicted = []\n",
    "\n",
    "testloop = tqdm(testloader, leave=True, desc='Inference')\n",
    "with torch.no_grad():\n",
    "    for feature, target in testloop:\n",
    "        feature, target = feature.to(device), target.to(device)\n",
    "\n",
    "        out = model(feature)\n",
    "\n",
    "        predicted = torch.tensor([1 if i == True else 0 for i in out > 0.5], device=device)\n",
    "        equals = predicted == target\n",
    "        acc = torch.mean(equals.type(torch.FloatTensor))\n",
    "        test_acc += acc.item()\n",
    "\n",
    "        loss = criterion(out.squeeze(), target.float())\n",
    "        test_loss += loss.item()\n",
    "\n",
    "        all_target.extend(target.cpu().numpy())\n",
    "        all_predicted.extend(predicted.cpu().numpy())\n",
    "\n",
    "    print(f'Accuracy: {test_acc/len(testloader):.4f}, Loss: {test_loss/len(testloader):.4f}')"
   ]
  },
  {
   "cell_type": "code",
   "execution_count": 20,
   "metadata": {
    "colab": {
     "base_uri": "https://localhost:8080/",
     "height": 624
    },
    "executionInfo": {
     "elapsed": 396,
     "status": "ok",
     "timestamp": 1703210922092,
     "user": {
      "displayName": "Melany S",
      "userId": "05076739692052721239"
     },
     "user_tz": 0
    },
    "id": "OqZeMzxKvkVI",
    "outputId": "c43d36d9-bcdc-4493-d7fd-209e0b1b3dfb"
   },
   "outputs": [
    {
     "name": "stdout",
     "output_type": "stream",
     "text": [
      "              precision    recall  f1-score   support\n",
      "\n",
      "           0       0.89      0.82      0.85      5719\n",
      "           1       0.80      0.88      0.84      4781\n",
      "\n",
      "    accuracy                           0.85     10500\n",
      "   macro avg       0.85      0.85      0.85     10500\n",
      "weighted avg       0.85      0.85      0.85     10500\n",
      "\n"
     ]
    },
    {
     "data": {
      "image/png": "[encoded data removed]",
      "text/plain": [
       "<Figure size 500x500 with 2 Axes>"
      ]
     },
     "metadata": {},
     "output_type": "display_data"
    }
   ],
   "source": [
    "# print out classification report\n",
    "print(classification_report(all_predicted, all_target))\n",
    "\n",
    "# plot confusion matrix\n",
    "cm = confusion_matrix(all_predicted, all_target)\n",
    "plt.figure(figsize=(5,5))\n",
    "sns.heatmap(cm, annot=True, fmt='g')\n",
    "plt.title('Confusion Matrix')\n",
    "plt.show()"
   ]
  },
  {
   "cell_type": "code",
   "execution_count": 22,
   "metadata": {
    "colab": {
     "base_uri": "https://localhost:8080/"
    },
    "executionInfo": {
     "elapsed": 551,
     "status": "ok",
     "timestamp": 1703210969060,
     "user": {
      "displayName": "Melany S",
      "userId": "05076739692052721239"
     },
     "user_tz": 0
    },
    "id": "Mr0NGOjCSD8M",
    "outputId": "e05c1c8d-fd1a-4875-fa72-6aa3d93f6f38"
   },
   "outputs": [
    {
     "name": "stdout",
     "output_type": "stream",
     "text": [
      "[('weight', Parameter containing:\n",
      "tensor([[ 4.8358e-02,  1.6678e-01,  6.7022e-03, -1.4049e-03, -1.0360e-01,\n",
      "          9.9154e-02, -2.2540e-03,  1.9634e-02,  6.0093e-02,  1.3643e-02,\n",
      "         -1.1980e-01, -2.8464e-03, -9.2801e-03, -8.4539e-02,  4.6002e-03,\n",
      "          6.9578e-04, -1.7495e-03,  4.1755e-02,  2.0599e-02, -2.0968e-02,\n",
      "          5.3098e-02,  2.4251e-03,  3.3632e-03, -4.1740e-02, -1.4341e-02,\n",
      "          1.1302e-02,  2.3598e-02,  1.9766e-02, -4.3295e-03,  1.8048e-02,\n",
      "          4.0617e-02,  4.6093e-03,  9.6739e-02,  5.5198e-02, -1.0192e-03,\n",
      "          4.1613e-02,  1.0791e-01, -3.5501e-03, -6.3756e-03,  4.4298e-04,\n",
      "         -1.0281e-02, -1.7082e-01,  6.2606e-03,  7.8167e-02,  3.4581e-03,\n",
      "          8.8816e-02,  4.8299e-02,  4.3941e-02,  3.5958e-02, -1.2805e-03,\n",
      "          9.9140e-02,  1.0525e-01,  7.4109e-02,  8.2155e-02,  2.2575e-02,\n",
      "          1.5932e-01,  1.2605e-01, -1.3287e-01,  3.1917e-04, -4.1422e-03,\n",
      "         -8.8793e-04,  8.4847e-02, -7.3780e-04,  5.4110e-03,  5.1435e-02,\n",
      "          1.8408e-03,  1.8096e-03, -4.2518e-02, -8.7652e-02,  4.7628e-02,\n",
      "          2.6650e-02, -6.9864e-03,  1.4493e-02,  3.9429e-02,  3.7742e-03,\n",
      "         -1.7001e-01, -2.5282e-03,  2.0873e-03, -1.8478e-03, -6.3393e-03,\n",
      "         -1.5694e-02, -6.1136e-03,  5.3384e-02, -9.6794e-02,  3.5947e-03,\n",
      "          8.7886e-03,  6.0004e-02, -2.3192e-02,  7.7186e-02,  4.6021e-02,\n",
      "          1.4031e-02, -3.6770e-03,  9.8555e-02, -2.6673e-02, -3.1474e-03,\n",
      "         -1.3659e-01, -9.8865e-02, -3.8060e-03, -3.7094e-03, -1.1325e-01,\n",
      "          4.2006e-02, -5.0817e-03,  3.7426e-03,  6.2518e-02,  3.0730e-03,\n",
      "          4.8432e-02,  2.2227e-03, -1.2753e-02, -2.7804e-02,  6.3262e-02,\n",
      "         -1.9360e-02,  1.1899e-02,  2.4339e-02, -6.5322e-02, -5.4548e-02,\n",
      "         -5.3960e-03,  6.4530e-03, -4.5051e-02,  9.7286e-02,  1.9776e-02,\n",
      "          4.0843e-02, -3.6704e-03, -3.8374e-02,  3.7949e-03, -8.5766e-02,\n",
      "          8.6708e-02, -3.2879e-03, -5.2529e-02,  7.3249e-07, -4.4272e-03,\n",
      "         -1.1052e-01, -3.1271e-02,  5.5436e-02,  1.3267e-01,  3.0450e-02,\n",
      "          5.1648e-02,  5.3555e-02, -9.3190e-02, -7.4968e-04, -7.0597e-02,\n",
      "         -4.7976e-02,  3.2882e-03, -1.1859e-02, -1.0143e-01, -7.6387e-02,\n",
      "         -3.1074e-03,  6.9495e-02, -2.4176e-02,  1.0681e-03,  1.9306e-03,\n",
      "         -6.4327e-02,  1.0667e-01,  3.4481e-02,  1.0005e-01, -8.7662e-04,\n",
      "          2.5474e-02,  1.9740e-03, -1.0659e-01,  4.1600e-02, -3.8006e-03,\n",
      "          7.5995e-04,  1.0384e-02, -6.2182e-03, -2.1285e-02,  6.6606e-02,\n",
      "          4.3173e-02,  9.3804e-02, -5.9672e-02, -2.3978e-02,  1.1507e-01,\n",
      "         -5.9551e-02, -1.2243e-01, -1.5773e-02, -2.3658e-03, -5.9918e-02,\n",
      "          9.4146e-04,  8.4119e-02, -2.6500e-03,  8.6273e-02,  1.3681e-02,\n",
      "          4.2197e-03, -2.1383e-03, -5.8917e-02, -5.8122e-02, -5.0836e-02,\n",
      "          2.2931e-02, -8.5730e-02,  6.8121e-02,  5.8968e-02, -8.0732e-03,\n",
      "          3.5974e-02, -1.1450e-01, -3.8097e-03,  2.5844e-02, -1.4549e-03,\n",
      "         -1.1001e-01,  6.4683e-02, -2.9682e-04,  1.5322e-02,  3.1921e-03,\n",
      "          1.0751e-03,  5.6287e-02,  2.2221e-02, -2.7082e-02,  7.0416e-03,\n",
      "         -9.6876e-04, -8.2555e-02,  1.5178e-02, -2.8915e-03, -4.6679e-02,\n",
      "          7.5036e-02, -8.1695e-04, -4.9532e-02, -1.2051e-01,  6.1119e-02,\n",
      "         -3.4698e-02,  7.7441e-03, -8.2534e-02, -5.7586e-03, -4.8392e-02,\n",
      "         -8.2160e-02,  8.9788e-04, -8.1649e-02,  1.3942e-02,  5.2341e-03,\n",
      "          1.0084e-03,  1.2830e-01, -2.3116e-02,  1.1128e-02, -2.8546e-03,\n",
      "         -6.8588e-04, -9.1221e-03, -1.2362e-02,  8.7915e-02,  6.7767e-03,\n",
      "         -1.6952e-02,  7.9434e-02, -4.3259e-02, -5.0858e-02,  1.0103e-02,\n",
      "         -2.5788e-02,  1.6463e-03, -6.0413e-02,  2.5526e-02, -8.2620e-02,\n",
      "         -3.4804e-02, -7.2105e-02,  4.9442e-02,  6.9186e-02, -2.5458e-02,\n",
      "         -5.2936e-03, -2.3303e-03,  3.9528e-02,  6.9979e-02,  1.5258e-01,\n",
      "          2.5360e-03,  5.8065e-02,  5.9665e-03,  1.4599e-04,  4.2252e-04,\n",
      "          6.7455e-03,  6.6261e-02, -1.4323e-02,  1.4495e-02,  1.3675e-01,\n",
      "         -5.5114e-02, -7.9498e-02, -7.8958e-02,  6.2598e-02,  1.0614e-03,\n",
      "         -4.8108e-02, -5.6477e-02, -4.7691e-02,  3.2336e-02, -1.3773e-01,\n",
      "          1.5335e-02,  2.4798e-04, -6.1374e-02, -6.0264e-02,  9.9608e-03,\n",
      "          6.9177e-02,  7.1007e-02,  4.3867e-04, -1.7990e-04,  4.8982e-02,\n",
      "          1.9334e-03, -5.5033e-02,  4.7071e-03, -1.9459e-03, -8.3020e-02,\n",
      "          8.0883e-03,  3.4219e-02, -6.4645e-02,  9.9428e-02,  1.0244e-02,\n",
      "         -8.3779e-02,  1.0351e-01,  1.8425e-01,  7.7640e-02,  5.1035e-02,\n",
      "         -5.5471e-02,  7.6315e-02,  1.5649e-02,  9.4326e-02, -1.8719e-04,\n",
      "          1.8398e-02,  7.4584e-02, -1.6395e-02, -1.3128e-02,  2.9012e-04,\n",
      "          7.1803e-02,  6.4107e-02, -1.2716e-02,  6.9808e-03,  1.1292e-02,\n",
      "          4.5357e-03, -9.0893e-02,  8.1673e-02, -5.5896e-02, -8.2355e-05,\n",
      "         -5.4060e-02, -1.0634e-02, -1.3340e-03, -1.2009e-02,  1.9876e-02,\n",
      "          4.9880e-02, -8.7871e-02, -2.7370e-02,  7.2668e-02,  1.1892e-02,\n",
      "         -9.3718e-04,  3.4499e-02,  1.9571e-03, -5.2471e-03, -2.2899e-04,\n",
      "          2.9101e-03, -7.3207e-03,  2.8419e-02, -3.7457e-02, -2.7173e-03,\n",
      "         -6.5957e-03,  6.7425e-02,  9.0634e-02,  1.2003e-01,  6.6215e-03,\n",
      "         -3.6073e-03,  2.4183e-03,  1.6171e-02,  6.6520e-02, -7.9730e-02,\n",
      "         -4.7557e-03,  1.0042e-01, -5.4495e-02, -2.2458e-03,  6.4581e-04,\n",
      "         -9.3139e-03,  4.3623e-02, -3.9035e-02, -4.1817e-03, -5.1286e-02,\n",
      "         -6.6038e-02,  8.6624e-02,  1.5858e-02, -6.3609e-03,  8.4391e-03,\n",
      "         -1.3279e-03,  1.9423e-03, -8.3822e-02, -1.0147e-01, -6.6733e-02,\n",
      "          6.9618e-02,  7.4995e-03,  7.1139e-02,  3.4274e-02, -1.0610e-02,\n",
      "          1.7882e-03,  7.6669e-04, -2.7920e-03, -3.8280e-03, -3.2848e-04,\n",
      "          3.2875e-02, -4.3341e-03,  8.3028e-02,  4.7688e-03,  2.4912e-03,\n",
      "          4.1405e-02,  4.7328e-03,  3.9377e-03, -2.1176e-03,  9.9399e-02,\n",
      "         -1.1418e-01, -6.2991e-03, -4.5098e-03, -2.2668e-02,  3.6680e-02,\n",
      "         -1.4055e-01,  1.8790e-02, -3.0046e-02, -5.5870e-02,  1.9608e-03,\n",
      "         -1.0333e-01,  5.7366e-02,  2.2331e-03,  9.8346e-02, -1.2688e-01,\n",
      "         -9.8107e-03,  1.0593e-01, -4.0510e-03,  2.9471e-02, -1.0697e-02,\n",
      "         -4.5006e-02, -3.3455e-02,  2.0115e-02,  4.6087e-03, -7.7011e-02,\n",
      "          5.2443e-02, -2.9649e-03,  1.0252e-02,  3.4842e-02,  4.4890e-03,\n",
      "          5.6031e-02, -1.4320e-02, -1.1076e-02, -1.9651e-04,  1.0122e-02,\n",
      "         -5.4496e-02, -2.3575e-03, -1.1503e-01,  8.8298e-03, -5.0958e-05,\n",
      "         -8.5330e-02,  1.4698e-03, -1.1068e-01,  6.4169e-02, -2.8659e-02,\n",
      "         -3.6960e-03,  2.4998e-03, -3.1918e-02,  8.9242e-02, -3.7092e-03,\n",
      "         -5.1492e-02, -2.3861e-03,  2.8839e-04, -8.5542e-02,  9.4632e-02,\n",
      "         -1.0109e-01,  2.9448e-03,  8.3996e-04,  8.3525e-02, -9.8208e-04,\n",
      "          6.1091e-02,  4.7554e-03,  3.8016e-03,  6.7338e-03,  6.1523e-02,\n",
      "         -1.8424e-04, -4.3559e-04, -3.8816e-03, -9.0416e-04, -6.4911e-02,\n",
      "         -7.8416e-02,  5.1597e-02, -7.6633e-02,  1.2931e-02, -5.0822e-02,\n",
      "         -1.2692e-01,  7.9034e-02, -9.4855e-02,  1.4236e-01, -6.8457e-02,\n",
      "          3.5720e-02,  7.3337e-02,  4.0972e-02,  4.6301e-02,  6.7823e-02,\n",
      "         -4.0511e-03,  3.6223e-03, -3.7728e-02, -9.3207e-02,  7.0901e-02,\n",
      "          6.8504e-02,  4.6340e-02,  2.5938e-02, -2.3760e-04,  9.2419e-02,\n",
      "          3.0926e-04, -1.7675e-02, -8.0769e-03,  1.4481e-02,  1.3594e-01,\n",
      "          6.5918e-02,  5.6547e-02, -6.0736e-02, -1.3993e-03,  6.5002e-04,\n",
      "          1.4576e-03,  7.9807e-02, -1.8583e-03, -9.5138e-03,  7.6613e-03,\n",
      "          6.0775e-04,  4.5540e-03,  9.6379e-02,  3.6244e-02,  6.6115e-03,\n",
      "          1.9651e-03, -3.6080e-04,  7.9459e-03, -3.7398e-03, -1.0721e-01,\n",
      "         -6.0573e-03, -1.0163e-01]], device='cuda:0', requires_grad=True)), ('bias', Parameter containing:\n",
      "tensor([0.0037], device='cuda:0', requires_grad=True))]\n"
     ]
    }
   ],
   "source": [
    "module = model.fc\n",
    "print(list(module.named_parameters()))"
   ]
  },
  {
   "cell_type": "code",
   "execution_count": 23,
   "metadata": {
    "colab": {
     "base_uri": "https://localhost:8080/"
    },
    "executionInfo": {
     "elapsed": 569,
     "status": "ok",
     "timestamp": 1703211019497,
     "user": {
      "displayName": "Melany S",
      "userId": "05076739692052721239"
     },
     "user_tz": 0
    },
    "id": "FsrI0cmXwURI",
    "outputId": "6d66ed18-e159-4200-cb04-1f0bb7bf9815"
   },
   "outputs": [
    {
     "data": {
      "text/plain": [
       "Linear(in_features=512, out_features=1, bias=True)"
      ]
     },
     "execution_count": 23,
     "metadata": {},
     "output_type": "execute_result"
    }
   ],
   "source": [
    "from torch.nn.utils import prune\n",
    "# reference: https://towardsdatascience.com/how-to-prune-neural-networks-with-pytorch-ebef60316b91\n",
    "\n",
    "# apply pruning\n",
    "# Specify the layer to prune\n",
    "layer_to_prune = 'fc'\n",
    "\n",
    "# Percentage of connections to prune\n",
    "prune_percentage = 30\n",
    "\n",
    "# Use L1Unstructured pruning method\n",
    "prune.l1_unstructured(module, name='weight', amount=prune_percentage / 100.0)\n"
   ]
  },
  {
   "cell_type": "code",
   "execution_count": 24,
   "metadata": {
    "colab": {
     "base_uri": "https://localhost:8080/"
    },
    "executionInfo": {
     "elapsed": 534,
     "status": "ok",
     "timestamp": 1703211030582,
     "user": {
      "displayName": "Melany S",
      "userId": "05076739692052721239"
     },
     "user_tz": 0
    },
    "id": "IQe963O1xxt_",
    "outputId": "bbb0cc39-78f0-4eed-e47e-a4ff66183a00"
   },
   "outputs": [
    {
     "name": "stdout",
     "output_type": "stream",
     "text": [
      "[('bias', Parameter containing:\n",
      "tensor([0.0037], device='cuda:0', requires_grad=True)), ('weight_orig', Parameter containing:\n",
      "tensor([[ 4.8358e-02,  1.6678e-01,  6.7022e-03, -1.4049e-03, -1.0360e-01,\n",
      "          9.9154e-02, -2.2540e-03,  1.9634e-02,  6.0093e-02,  1.3643e-02,\n",
      "         -1.1980e-01, -2.8464e-03, -9.2801e-03, -8.4539e-02,  4.6002e-03,\n",
      "          6.9578e-04, -1.7495e-03,  4.1755e-02,  2.0599e-02, -2.0968e-02,\n",
      "          5.3098e-02,  2.4251e-03,  3.3632e-03, -4.1740e-02, -1.4341e-02,\n",
      "          1.1302e-02,  2.3598e-02,  1.9766e-02, -4.3295e-03,  1.8048e-02,\n",
      "          4.0617e-02,  4.6093e-03,  9.6739e-02,  5.5198e-02, -1.0192e-03,\n",
      "          4.1613e-02,  1.0791e-01, -3.5501e-03, -6.3756e-03,  4.4298e-04,\n",
      "         -1.0281e-02, -1.7082e-01,  6.2606e-03,  7.8167e-02,  3.4581e-03,\n",
      "          8.8816e-02,  4.8299e-02,  4.3941e-02,  3.5958e-02, -1.2805e-03,\n",
      "          9.9140e-02,  1.0525e-01,  7.4109e-02,  8.2155e-02,  2.2575e-02,\n",
      "          1.5932e-01,  1.2605e-01, -1.3287e-01,  3.1917e-04, -4.1422e-03,\n",
      "         -8.8793e-04,  8.4847e-02, -7.3780e-04,  5.4110e-03,  5.1435e-02,\n",
      "          1.8408e-03,  1.8096e-03, -4.2518e-02, -8.7652e-02,  4.7628e-02,\n",
      "          2.6650e-02, -6.9864e-03,  1.4493e-02,  3.9429e-02,  3.7742e-03,\n",
      "         -1.7001e-01, -2.5282e-03,  2.0873e-03, -1.8478e-03, -6.3393e-03,\n",
      "         -1.5694e-02, -6.1136e-03,  5.3384e-02, -9.6794e-02,  3.5947e-03,\n",
      "          8.7886e-03,  6.0004e-02, -2.3192e-02,  7.7186e-02,  4.6021e-02,\n",
      "          1.4031e-02, -3.6770e-03,  9.8555e-02, -2.6673e-02, -3.1474e-03,\n",
      "         -1.3659e-01, -9.8865e-02, -3.8060e-03, -3.7094e-03, -1.1325e-01,\n",
      "          4.2006e-02, -5.0817e-03,  3.7426e-03,  6.2518e-02,  3.0730e-03,\n",
      "          4.8432e-02,  2.2227e-03, -1.2753e-02, -2.7804e-02,  6.3262e-02,\n",
      "         -1.9360e-02,  1.1899e-02,  2.4339e-02, -6.5322e-02, -5.4548e-02,\n",
      "         -5.3960e-03,  6.4530e-03, -4.5051e-02,  9.7286e-02,  1.9776e-02,\n",
      "          4.0843e-02, -3.6704e-03, -3.8374e-02,  3.7949e-03, -8.5766e-02,\n",
      "          8.6708e-02, -3.2879e-03, -5.2529e-02,  7.3249e-07, -4.4272e-03,\n",
      "         -1.1052e-01, -3.1271e-02,  5.5436e-02,  1.3267e-01,  3.0450e-02,\n",
      "          5.1648e-02,  5.3555e-02, -9.3190e-02, -7.4968e-04, -7.0597e-02,\n",
      "         -4.7976e-02,  3.2882e-03, -1.1859e-02, -1.0143e-01, -7.6387e-02,\n",
      "         -3.1074e-03,  6.9495e-02, -2.4176e-02,  1.0681e-03,  1.9306e-03,\n",
      "         -6.4327e-02,  1.0667e-01,  3.4481e-02,  1.0005e-01, -8.7662e-04,\n",
      "          2.5474e-02,  1.9740e-03, -1.0659e-01,  4.1600e-02, -3.8006e-03,\n",
      "          7.5995e-04,  1.0384e-02, -6.2182e-03, -2.1285e-02,  6.6606e-02,\n",
      "          4.3173e-02,  9.3804e-02, -5.9672e-02, -2.3978e-02,  1.1507e-01,\n",
      "         -5.9551e-02, -1.2243e-01, -1.5773e-02, -2.3658e-03, -5.9918e-02,\n",
      "          9.4146e-04,  8.4119e-02, -2.6500e-03,  8.6273e-02,  1.3681e-02,\n",
      "          4.2197e-03, -2.1383e-03, -5.8917e-02, -5.8122e-02, -5.0836e-02,\n",
      "          2.2931e-02, -8.5730e-02,  6.8121e-02,  5.8968e-02, -8.0732e-03,\n",
      "          3.5974e-02, -1.1450e-01, -3.8097e-03,  2.5844e-02, -1.4549e-03,\n",
      "         -1.1001e-01,  6.4683e-02, -2.9682e-04,  1.5322e-02,  3.1921e-03,\n",
      "          1.0751e-03,  5.6287e-02,  2.2221e-02, -2.7082e-02,  7.0416e-03,\n",
      "         -9.6876e-04, -8.2555e-02,  1.5178e-02, -2.8915e-03, -4.6679e-02,\n",
      "          7.5036e-02, -8.1695e-04, -4.9532e-02, -1.2051e-01,  6.1119e-02,\n",
      "         -3.4698e-02,  7.7441e-03, -8.2534e-02, -5.7586e-03, -4.8392e-02,\n",
      "         -8.2160e-02,  8.9788e-04, -8.1649e-02,  1.3942e-02,  5.2341e-03,\n",
      "          1.0084e-03,  1.2830e-01, -2.3116e-02,  1.1128e-02, -2.8546e-03,\n",
      "         -6.8588e-04, -9.1221e-03, -1.2362e-02,  8.7915e-02,  6.7767e-03,\n",
      "         -1.6952e-02,  7.9434e-02, -4.3259e-02, -5.0858e-02,  1.0103e-02,\n",
      "         -2.5788e-02,  1.6463e-03, -6.0413e-02,  2.5526e-02, -8.2620e-02,\n",
      "         -3.4804e-02, -7.2105e-02,  4.9442e-02,  6.9186e-02, -2.5458e-02,\n",
      "         -5.2936e-03, -2.3303e-03,  3.9528e-02,  6.9979e-02,  1.5258e-01,\n",
      "          2.5360e-03,  5.8065e-02,  5.9665e-03,  1.4599e-04,  4.2252e-04,\n",
      "          6.7455e-03,  6.6261e-02, -1.4323e-02,  1.4495e-02,  1.3675e-01,\n",
      "         -5.5114e-02, -7.9498e-02, -7.8958e-02,  6.2598e-02,  1.0614e-03,\n",
      "         -4.8108e-02, -5.6477e-02, -4.7691e-02,  3.2336e-02, -1.3773e-01,\n",
      "          1.5335e-02,  2.4798e-04, -6.1374e-02, -6.0264e-02,  9.9608e-03,\n",
      "          6.9177e-02,  7.1007e-02,  4.3867e-04, -1.7990e-04,  4.8982e-02,\n",
      "          1.9334e-03, -5.5033e-02,  4.7071e-03, -1.9459e-03, -8.3020e-02,\n",
      "          8.0883e-03,  3.4219e-02, -6.4645e-02,  9.9428e-02,  1.0244e-02,\n",
      "         -8.3779e-02,  1.0351e-01,  1.8425e-01,  7.7640e-02,  5.1035e-02,\n",
      "         -5.5471e-02,  7.6315e-02,  1.5649e-02,  9.4326e-02, -1.8719e-04,\n",
      "          1.8398e-02,  7.4584e-02, -1.6395e-02, -1.3128e-02,  2.9012e-04,\n",
      "          7.1803e-02,  6.4107e-02, -1.2716e-02,  6.9808e-03,  1.1292e-02,\n",
      "          4.5357e-03, -9.0893e-02,  8.1673e-02, -5.5896e-02, -8.2355e-05,\n",
      "         -5.4060e-02, -1.0634e-02, -1.3340e-03, -1.2009e-02,  1.9876e-02,\n",
      "          4.9880e-02, -8.7871e-02, -2.7370e-02,  7.2668e-02,  1.1892e-02,\n",
      "         -9.3718e-04,  3.4499e-02,  1.9571e-03, -5.2471e-03, -2.2899e-04,\n",
      "          2.9101e-03, -7.3207e-03,  2.8419e-02, -3.7457e-02, -2.7173e-03,\n",
      "         -6.5957e-03,  6.7425e-02,  9.0634e-02,  1.2003e-01,  6.6215e-03,\n",
      "         -3.6073e-03,  2.4183e-03,  1.6171e-02,  6.6520e-02, -7.9730e-02,\n",
      "         -4.7557e-03,  1.0042e-01, -5.4495e-02, -2.2458e-03,  6.4581e-04,\n",
      "         -9.3139e-03,  4.3623e-02, -3.9035e-02, -4.1817e-03, -5.1286e-02,\n",
      "         -6.6038e-02,  8.6624e-02,  1.5858e-02, -6.3609e-03,  8.4391e-03,\n",
      "         -1.3279e-03,  1.9423e-03, -8.3822e-02, -1.0147e-01, -6.6733e-02,\n",
      "          6.9618e-02,  7.4995e-03,  7.1139e-02,  3.4274e-02, -1.0610e-02,\n",
      "          1.7882e-03,  7.6669e-04, -2.7920e-03, -3.8280e-03, -3.2848e-04,\n",
      "          3.2875e-02, -4.3341e-03,  8.3028e-02,  4.7688e-03,  2.4912e-03,\n",
      "          4.1405e-02,  4.7328e-03,  3.9377e-03, -2.1176e-03,  9.9399e-02,\n",
      "         -1.1418e-01, -6.2991e-03, -4.5098e-03, -2.2668e-02,  3.6680e-02,\n",
      "         -1.4055e-01,  1.8790e-02, -3.0046e-02, -5.5870e-02,  1.9608e-03,\n",
      "         -1.0333e-01,  5.7366e-02,  2.2331e-03,  9.8346e-02, -1.2688e-01,\n",
      "         -9.8107e-03,  1.0593e-01, -4.0510e-03,  2.9471e-02, -1.0697e-02,\n",
      "         -4.5006e-02, -3.3455e-02,  2.0115e-02,  4.6087e-03, -7.7011e-02,\n",
      "          5.2443e-02, -2.9649e-03,  1.0252e-02,  3.4842e-02,  4.4890e-03,\n",
      "          5.6031e-02, -1.4320e-02, -1.1076e-02, -1.9651e-04,  1.0122e-02,\n",
      "         -5.4496e-02, -2.3575e-03, -1.1503e-01,  8.8298e-03, -5.0958e-05,\n",
      "         -8.5330e-02,  1.4698e-03, -1.1068e-01,  6.4169e-02, -2.8659e-02,\n",
      "         -3.6960e-03,  2.4998e-03, -3.1918e-02,  8.9242e-02, -3.7092e-03,\n",
      "         -5.1492e-02, -2.3861e-03,  2.8839e-04, -8.5542e-02,  9.4632e-02,\n",
      "         -1.0109e-01,  2.9448e-03,  8.3996e-04,  8.3525e-02, -9.8208e-04,\n",
      "          6.1091e-02,  4.7554e-03,  3.8016e-03,  6.7338e-03,  6.1523e-02,\n",
      "         -1.8424e-04, -4.3559e-04, -3.8816e-03, -9.0416e-04, -6.4911e-02,\n",
      "         -7.8416e-02,  5.1597e-02, -7.6633e-02,  1.2931e-02, -5.0822e-02,\n",
      "         -1.2692e-01,  7.9034e-02, -9.4855e-02,  1.4236e-01, -6.8457e-02,\n",
      "          3.5720e-02,  7.3337e-02,  4.0972e-02,  4.6301e-02,  6.7823e-02,\n",
      "         -4.0511e-03,  3.6223e-03, -3.7728e-02, -9.3207e-02,  7.0901e-02,\n",
      "          6.8504e-02,  4.6340e-02,  2.5938e-02, -2.3760e-04,  9.2419e-02,\n",
      "          3.0926e-04, -1.7675e-02, -8.0769e-03,  1.4481e-02,  1.3594e-01,\n",
      "          6.5918e-02,  5.6547e-02, -6.0736e-02, -1.3993e-03,  6.5002e-04,\n",
      "          1.4576e-03,  7.9807e-02, -1.8583e-03, -9.5138e-03,  7.6613e-03,\n",
      "          6.0775e-04,  4.5540e-03,  9.6379e-02,  3.6244e-02,  6.6115e-03,\n",
      "          1.9651e-03, -3.6080e-04,  7.9459e-03, -3.7398e-03, -1.0721e-01,\n",
      "         -6.0573e-03, -1.0163e-01]], device='cuda:0', requires_grad=True))]\n"
     ]
    }
   ],
   "source": [
    "print(list(module.named_parameters()))"
   ]
  },
  {
   "cell_type": "code",
   "execution_count": 25,
   "metadata": {
    "colab": {
     "base_uri": "https://localhost:8080/"
    },
    "executionInfo": {
     "elapsed": 264,
     "status": "ok",
     "timestamp": 1703211042895,
     "user": {
      "displayName": "Melany S",
      "userId": "05076739692052721239"
     },
     "user_tz": 0
    },
    "id": "lFDg99RpSf4U",
    "outputId": "1501a148-9809-44ba-f9a1-fe70a02cdd74"
   },
   "outputs": [
    {
     "name": "stdout",
     "output_type": "stream",
     "text": [
      "[('weight_mask', tensor([[1., 1., 1., 0., 1., 1., 0., 1., 1., 1., 1., 0., 1., 1., 0., 0., 0., 1.,\n",
      "         1., 1., 1., 0., 0., 1., 1., 1., 1., 1., 0., 1., 1., 0., 1., 1., 0., 1.,\n",
      "         1., 0., 1., 0., 1., 1., 1., 1., 0., 1., 1., 1., 1., 0., 1., 1., 1., 1.,\n",
      "         1., 1., 1., 1., 0., 0., 0., 1., 0., 0., 1., 0., 0., 1., 1., 1., 1., 1.,\n",
      "         1., 1., 0., 1., 0., 0., 0., 1., 1., 0., 1., 1., 0., 1., 1., 1., 1., 1.,\n",
      "         1., 0., 1., 1., 0., 1., 1., 0., 0., 1., 1., 0., 0., 1., 0., 1., 0., 1.,\n",
      "         1., 1., 1., 1., 1., 1., 1., 0., 1., 1., 1., 1., 1., 0., 1., 0., 1., 1.,\n",
      "         0., 1., 0., 0., 1., 1., 1., 1., 1., 1., 1., 1., 0., 1., 1., 0., 1., 1.,\n",
      "         1., 0., 1., 1., 0., 0., 1., 1., 1., 1., 0., 1., 0., 1., 1., 0., 0., 1.,\n",
      "         0., 1., 1., 1., 1., 1., 1., 1., 1., 1., 1., 0., 1., 0., 1., 0., 1., 1.,\n",
      "         0., 0., 1., 1., 1., 1., 1., 1., 1., 1., 1., 1., 0., 1., 0., 1., 1., 0.,\n",
      "         1., 0., 0., 1., 1., 1., 1., 0., 1., 1., 0., 1., 1., 0., 1., 1., 1., 1.,\n",
      "         1., 1., 0., 1., 1., 0., 1., 1., 0., 0., 1., 1., 1., 0., 0., 1., 1., 1.,\n",
      "         1., 1., 1., 1., 1., 1., 1., 0., 1., 1., 1., 1., 1., 1., 1., 1., 0., 0.,\n",
      "         1., 1., 1., 0., 1., 0., 0., 0., 1., 1., 1., 1., 1., 1., 1., 1., 1., 0.,\n",
      "         1., 1., 1., 1., 1., 1., 0., 1., 1., 1., 1., 1., 0., 0., 1., 0., 1., 0.,\n",
      "         0., 1., 1., 1., 1., 1., 1., 1., 1., 1., 1., 1., 1., 1., 1., 1., 0., 1.,\n",
      "         1., 1., 1., 0., 1., 1., 1., 1., 1., 0., 1., 1., 1., 0., 1., 1., 0., 1.,\n",
      "         1., 1., 1., 1., 1., 1., 0., 1., 0., 0., 0., 0., 1., 1., 1., 0., 1., 1.,\n",
      "         1., 1., 1., 0., 0., 1., 1., 1., 0., 1., 1., 0., 0., 1., 1., 1., 0., 1.,\n",
      "         1., 1., 1., 1., 1., 0., 0., 1., 1., 1., 1., 1., 1., 1., 1., 0., 0., 0.,\n",
      "         0., 0., 1., 0., 1., 0., 0., 1., 0., 0., 0., 1., 1., 1., 0., 1., 1., 1.,\n",
      "         1., 1., 1., 0., 1., 1., 0., 1., 1., 1., 1., 0., 1., 1., 1., 1., 1., 0.,\n",
      "         1., 1., 0., 1., 1., 0., 1., 1., 1., 0., 1., 1., 0., 1., 1., 0., 1., 0.,\n",
      "         1., 1., 1., 0., 0., 1., 1., 0., 1., 0., 0., 1., 1., 1., 0., 0., 1., 0.,\n",
      "         1., 0., 0., 1., 1., 0., 0., 0., 0., 1., 1., 1., 1., 1., 1., 1., 1., 1.,\n",
      "         1., 1., 1., 1., 1., 1., 1., 0., 0., 1., 1., 1., 1., 1., 1., 0., 1., 0.,\n",
      "         1., 1., 1., 1., 1., 1., 1., 0., 0., 0., 1., 0., 1., 1., 0., 0., 1., 1.,\n",
      "         1., 0., 0., 1., 0., 1., 0., 1.]], device='cuda:0'))]\n"
     ]
    }
   ],
   "source": [
    "print(list(module.named_buffers()))"
   ]
  },
  {
   "cell_type": "code",
   "execution_count": 26,
   "metadata": {
    "colab": {
     "base_uri": "https://localhost:8080/"
    },
    "executionInfo": {
     "elapsed": 580,
     "status": "ok",
     "timestamp": 1703211051910,
     "user": {
      "displayName": "Melany S",
      "userId": "05076739692052721239"
     },
     "user_tz": 0
    },
    "id": "sYWtvYQUSgUY",
    "outputId": "099a4aaa-a8a0-4cc5-fb2f-03287cc66a5e"
   },
   "outputs": [
    {
     "name": "stdout",
     "output_type": "stream",
     "text": [
      "tensor([[ 0.0484,  0.1668,  0.0067, -0.0000, -0.1036,  0.0992, -0.0000,  0.0196,\n",
      "          0.0601,  0.0136, -0.1198, -0.0000, -0.0093, -0.0845,  0.0000,  0.0000,\n",
      "         -0.0000,  0.0418,  0.0206, -0.0210,  0.0531,  0.0000,  0.0000, -0.0417,\n",
      "         -0.0143,  0.0113,  0.0236,  0.0198, -0.0000,  0.0180,  0.0406,  0.0000,\n",
      "          0.0967,  0.0552, -0.0000,  0.0416,  0.1079, -0.0000, -0.0064,  0.0000,\n",
      "         -0.0103, -0.1708,  0.0063,  0.0782,  0.0000,  0.0888,  0.0483,  0.0439,\n",
      "          0.0360, -0.0000,  0.0991,  0.1052,  0.0741,  0.0822,  0.0226,  0.1593,\n",
      "          0.1260, -0.1329,  0.0000, -0.0000, -0.0000,  0.0848, -0.0000,  0.0000,\n",
      "          0.0514,  0.0000,  0.0000, -0.0425, -0.0877,  0.0476,  0.0266, -0.0070,\n",
      "          0.0145,  0.0394,  0.0000, -0.1700, -0.0000,  0.0000, -0.0000, -0.0063,\n",
      "         -0.0157, -0.0000,  0.0534, -0.0968,  0.0000,  0.0088,  0.0600, -0.0232,\n",
      "          0.0772,  0.0460,  0.0140, -0.0000,  0.0986, -0.0267, -0.0000, -0.1366,\n",
      "         -0.0989, -0.0000, -0.0000, -0.1133,  0.0420, -0.0000,  0.0000,  0.0625,\n",
      "          0.0000,  0.0484,  0.0000, -0.0128, -0.0278,  0.0633, -0.0194,  0.0119,\n",
      "          0.0243, -0.0653, -0.0545, -0.0000,  0.0065, -0.0451,  0.0973,  0.0198,\n",
      "          0.0408, -0.0000, -0.0384,  0.0000, -0.0858,  0.0867, -0.0000, -0.0525,\n",
      "          0.0000, -0.0000, -0.1105, -0.0313,  0.0554,  0.1327,  0.0305,  0.0516,\n",
      "          0.0536, -0.0932, -0.0000, -0.0706, -0.0480,  0.0000, -0.0119, -0.1014,\n",
      "         -0.0764, -0.0000,  0.0695, -0.0242,  0.0000,  0.0000, -0.0643,  0.1067,\n",
      "          0.0345,  0.1001, -0.0000,  0.0255,  0.0000, -0.1066,  0.0416, -0.0000,\n",
      "          0.0000,  0.0104, -0.0000, -0.0213,  0.0666,  0.0432,  0.0938, -0.0597,\n",
      "         -0.0240,  0.1151, -0.0596, -0.1224, -0.0158, -0.0000, -0.0599,  0.0000,\n",
      "          0.0841, -0.0000,  0.0863,  0.0137,  0.0000, -0.0000, -0.0589, -0.0581,\n",
      "         -0.0508,  0.0229, -0.0857,  0.0681,  0.0590, -0.0081,  0.0360, -0.1145,\n",
      "         -0.0000,  0.0258, -0.0000, -0.1100,  0.0647, -0.0000,  0.0153,  0.0000,\n",
      "          0.0000,  0.0563,  0.0222, -0.0271,  0.0070, -0.0000, -0.0826,  0.0152,\n",
      "         -0.0000, -0.0467,  0.0750, -0.0000, -0.0495, -0.1205,  0.0611, -0.0347,\n",
      "          0.0077, -0.0825, -0.0000, -0.0484, -0.0822,  0.0000, -0.0816,  0.0139,\n",
      "          0.0000,  0.0000,  0.1283, -0.0231,  0.0111, -0.0000, -0.0000, -0.0091,\n",
      "         -0.0124,  0.0879,  0.0068, -0.0170,  0.0794, -0.0433, -0.0509,  0.0101,\n",
      "         -0.0258,  0.0000, -0.0604,  0.0255, -0.0826, -0.0348, -0.0721,  0.0494,\n",
      "          0.0692, -0.0255, -0.0000, -0.0000,  0.0395,  0.0700,  0.1526,  0.0000,\n",
      "          0.0581,  0.0000,  0.0000,  0.0000,  0.0067,  0.0663, -0.0143,  0.0145,\n",
      "          0.1368, -0.0551, -0.0795, -0.0790,  0.0626,  0.0000, -0.0481, -0.0565,\n",
      "         -0.0477,  0.0323, -0.1377,  0.0153,  0.0000, -0.0614, -0.0603,  0.0100,\n",
      "          0.0692,  0.0710,  0.0000, -0.0000,  0.0490,  0.0000, -0.0550,  0.0000,\n",
      "         -0.0000, -0.0830,  0.0081,  0.0342, -0.0646,  0.0994,  0.0102, -0.0838,\n",
      "          0.1035,  0.1843,  0.0776,  0.0510, -0.0555,  0.0763,  0.0156,  0.0943,\n",
      "         -0.0000,  0.0184,  0.0746, -0.0164, -0.0131,  0.0000,  0.0718,  0.0641,\n",
      "         -0.0127,  0.0070,  0.0113,  0.0000, -0.0909,  0.0817, -0.0559, -0.0000,\n",
      "         -0.0541, -0.0106, -0.0000, -0.0120,  0.0199,  0.0499, -0.0879, -0.0274,\n",
      "          0.0727,  0.0119, -0.0000,  0.0345,  0.0000, -0.0000, -0.0000,  0.0000,\n",
      "         -0.0073,  0.0284, -0.0375, -0.0000, -0.0066,  0.0674,  0.0906,  0.1200,\n",
      "          0.0066, -0.0000,  0.0000,  0.0162,  0.0665, -0.0797, -0.0000,  0.1004,\n",
      "         -0.0545, -0.0000,  0.0000, -0.0093,  0.0436, -0.0390, -0.0000, -0.0513,\n",
      "         -0.0660,  0.0866,  0.0159, -0.0064,  0.0084, -0.0000,  0.0000, -0.0838,\n",
      "         -0.1015, -0.0667,  0.0696,  0.0075,  0.0711,  0.0343, -0.0106,  0.0000,\n",
      "          0.0000, -0.0000, -0.0000, -0.0000,  0.0329, -0.0000,  0.0830,  0.0000,\n",
      "          0.0000,  0.0414,  0.0000,  0.0000, -0.0000,  0.0994, -0.1142, -0.0063,\n",
      "         -0.0000, -0.0227,  0.0367, -0.1406,  0.0188, -0.0300, -0.0559,  0.0000,\n",
      "         -0.1033,  0.0574,  0.0000,  0.0983, -0.1269, -0.0098,  0.1059, -0.0000,\n",
      "          0.0295, -0.0107, -0.0450, -0.0335,  0.0201,  0.0000, -0.0770,  0.0524,\n",
      "         -0.0000,  0.0103,  0.0348,  0.0000,  0.0560, -0.0143, -0.0111, -0.0000,\n",
      "          0.0101, -0.0545, -0.0000, -0.1150,  0.0088, -0.0000, -0.0853,  0.0000,\n",
      "         -0.1107,  0.0642, -0.0287, -0.0000,  0.0000, -0.0319,  0.0892, -0.0000,\n",
      "         -0.0515, -0.0000,  0.0000, -0.0855,  0.0946, -0.1011,  0.0000,  0.0000,\n",
      "          0.0835, -0.0000,  0.0611,  0.0000,  0.0000,  0.0067,  0.0615, -0.0000,\n",
      "         -0.0000, -0.0000, -0.0000, -0.0649, -0.0784,  0.0516, -0.0766,  0.0129,\n",
      "         -0.0508, -0.1269,  0.0790, -0.0949,  0.1424, -0.0685,  0.0357,  0.0733,\n",
      "          0.0410,  0.0463,  0.0678, -0.0000,  0.0000, -0.0377, -0.0932,  0.0709,\n",
      "          0.0685,  0.0463,  0.0259, -0.0000,  0.0924,  0.0000, -0.0177, -0.0081,\n",
      "          0.0145,  0.1359,  0.0659,  0.0565, -0.0607, -0.0000,  0.0000,  0.0000,\n",
      "          0.0798, -0.0000, -0.0095,  0.0077,  0.0000,  0.0000,  0.0964,  0.0362,\n",
      "          0.0066,  0.0000, -0.0000,  0.0079, -0.0000, -0.1072, -0.0000, -0.1016]],\n",
      "       device='cuda:0', grad_fn=<MulBackward0>)\n"
     ]
    }
   ],
   "source": [
    "print(module.weight)"
   ]
  },
  {
   "cell_type": "code",
   "execution_count": 27,
   "metadata": {
    "colab": {
     "base_uri": "https://localhost:8080/"
    },
    "executionInfo": {
     "elapsed": 260,
     "status": "ok",
     "timestamp": 1703211063630,
     "user": {
      "displayName": "Melany S",
      "userId": "05076739692052721239"
     },
     "user_tz": 0
    },
    "id": "vlfJHSVkSicl",
    "outputId": "ccccfff5-012c-4cba-bfa7-cf41b82f18ce"
   },
   "outputs": [
    {
     "name": "stdout",
     "output_type": "stream",
     "text": [
      "OrderedDict([(0, <torch.nn.utils.prune.L1Unstructured object at 0x7f4ef015ece0>)])\n"
     ]
    }
   ],
   "source": [
    "print(module._forward_pre_hooks)"
   ]
  },
  {
   "cell_type": "code",
   "execution_count": 30,
   "metadata": {
    "colab": {
     "base_uri": "https://localhost:8080/"
    },
    "executionInfo": {
     "elapsed": 274,
     "status": "ok",
     "timestamp": 1703211152446,
     "user": {
      "displayName": "Melany S",
      "userId": "05076739692052721239"
     },
     "user_tz": 0
    },
    "id": "DEat6L58SlYM",
    "outputId": "d01973c7-32db-402e-9af5-594ee862d28d"
   },
   "outputs": [
    {
     "data": {
      "text/plain": [
       "Linear(in_features=512, out_features=1, bias=True)"
      ]
     },
     "execution_count": 30,
     "metadata": {},
     "output_type": "execute_result"
    }
   ],
   "source": [
    "prune.l1_unstructured(module, name=\"weight\", amount=prune_percentage)"
   ]
  },
  {
   "cell_type": "code",
   "execution_count": 31,
   "metadata": {
    "colab": {
     "base_uri": "https://localhost:8080/"
    },
    "executionInfo": {
     "elapsed": 264,
     "status": "ok",
     "timestamp": 1703211164412,
     "user": {
      "displayName": "Melany S",
      "userId": "05076739692052721239"
     },
     "user_tz": 0
    },
    "id": "khRKhd7ySpCH",
    "outputId": "a2ac9a19-438c-4032-9dd5-9d4adcabdba3"
   },
   "outputs": [
    {
     "name": "stdout",
     "output_type": "stream",
     "text": [
      "[('weight_orig', Parameter containing:\n",
      "tensor([[ 4.8358e-02,  1.6678e-01,  6.7022e-03, -1.4049e-03, -1.0360e-01,\n",
      "          9.9154e-02, -2.2540e-03,  1.9634e-02,  6.0093e-02,  1.3643e-02,\n",
      "         -1.1980e-01, -2.8464e-03, -9.2801e-03, -8.4539e-02,  4.6002e-03,\n",
      "          6.9578e-04, -1.7495e-03,  4.1755e-02,  2.0599e-02, -2.0968e-02,\n",
      "          5.3098e-02,  2.4251e-03,  3.3632e-03, -4.1740e-02, -1.4341e-02,\n",
      "          1.1302e-02,  2.3598e-02,  1.9766e-02, -4.3295e-03,  1.8048e-02,\n",
      "          4.0617e-02,  4.6093e-03,  9.6739e-02,  5.5198e-02, -1.0192e-03,\n",
      "          4.1613e-02,  1.0791e-01, -3.5501e-03, -6.3756e-03,  4.4298e-04,\n",
      "         -1.0281e-02, -1.7082e-01,  6.2606e-03,  7.8167e-02,  3.4581e-03,\n",
      "          8.8816e-02,  4.8299e-02,  4.3941e-02,  3.5958e-02, -1.2805e-03,\n",
      "          9.9140e-02,  1.0525e-01,  7.4109e-02,  8.2155e-02,  2.2575e-02,\n",
      "          1.5932e-01,  1.2605e-01, -1.3287e-01,  3.1917e-04, -4.1422e-03,\n",
      "         -8.8793e-04,  8.4847e-02, -7.3780e-04,  5.4110e-03,  5.1435e-02,\n",
      "          1.8408e-03,  1.8096e-03, -4.2518e-02, -8.7652e-02,  4.7628e-02,\n",
      "          2.6650e-02, -6.9864e-03,  1.4493e-02,  3.9429e-02,  3.7742e-03,\n",
      "         -1.7001e-01, -2.5282e-03,  2.0873e-03, -1.8478e-03, -6.3393e-03,\n",
      "         -1.5694e-02, -6.1136e-03,  5.3384e-02, -9.6794e-02,  3.5947e-03,\n",
      "          8.7886e-03,  6.0004e-02, -2.3192e-02,  7.7186e-02,  4.6021e-02,\n",
      "          1.4031e-02, -3.6770e-03,  9.8555e-02, -2.6673e-02, -3.1474e-03,\n",
      "         -1.3659e-01, -9.8865e-02, -3.8060e-03, -3.7094e-03, -1.1325e-01,\n",
      "          4.2006e-02, -5.0817e-03,  3.7426e-03,  6.2518e-02,  3.0730e-03,\n",
      "          4.8432e-02,  2.2227e-03, -1.2753e-02, -2.7804e-02,  6.3262e-02,\n",
      "         -1.9360e-02,  1.1899e-02,  2.4339e-02, -6.5322e-02, -5.4548e-02,\n",
      "         -5.3960e-03,  6.4530e-03, -4.5051e-02,  9.7286e-02,  1.9776e-02,\n",
      "          4.0843e-02, -3.6704e-03, -3.8374e-02,  3.7949e-03, -8.5766e-02,\n",
      "          8.6708e-02, -3.2879e-03, -5.2529e-02,  7.3249e-07, -4.4272e-03,\n",
      "         -1.1052e-01, -3.1271e-02,  5.5436e-02,  1.3267e-01,  3.0450e-02,\n",
      "          5.1648e-02,  5.3555e-02, -9.3190e-02, -7.4968e-04, -7.0597e-02,\n",
      "         -4.7976e-02,  3.2882e-03, -1.1859e-02, -1.0143e-01, -7.6387e-02,\n",
      "         -3.1074e-03,  6.9495e-02, -2.4176e-02,  1.0681e-03,  1.9306e-03,\n",
      "         -6.4327e-02,  1.0667e-01,  3.4481e-02,  1.0005e-01, -8.7662e-04,\n",
      "          2.5474e-02,  1.9740e-03, -1.0659e-01,  4.1600e-02, -3.8006e-03,\n",
      "          7.5995e-04,  1.0384e-02, -6.2182e-03, -2.1285e-02,  6.6606e-02,\n",
      "          4.3173e-02,  9.3804e-02, -5.9672e-02, -2.3978e-02,  1.1507e-01,\n",
      "         -5.9551e-02, -1.2243e-01, -1.5773e-02, -2.3658e-03, -5.9918e-02,\n",
      "          9.4146e-04,  8.4119e-02, -2.6500e-03,  8.6273e-02,  1.3681e-02,\n",
      "          4.2197e-03, -2.1383e-03, -5.8917e-02, -5.8122e-02, -5.0836e-02,\n",
      "          2.2931e-02, -8.5730e-02,  6.8121e-02,  5.8968e-02, -8.0732e-03,\n",
      "          3.5974e-02, -1.1450e-01, -3.8097e-03,  2.5844e-02, -1.4549e-03,\n",
      "         -1.1001e-01,  6.4683e-02, -2.9682e-04,  1.5322e-02,  3.1921e-03,\n",
      "          1.0751e-03,  5.6287e-02,  2.2221e-02, -2.7082e-02,  7.0416e-03,\n",
      "         -9.6876e-04, -8.2555e-02,  1.5178e-02, -2.8915e-03, -4.6679e-02,\n",
      "          7.5036e-02, -8.1695e-04, -4.9532e-02, -1.2051e-01,  6.1119e-02,\n",
      "         -3.4698e-02,  7.7441e-03, -8.2534e-02, -5.7586e-03, -4.8392e-02,\n",
      "         -8.2160e-02,  8.9788e-04, -8.1649e-02,  1.3942e-02,  5.2341e-03,\n",
      "          1.0084e-03,  1.2830e-01, -2.3116e-02,  1.1128e-02, -2.8546e-03,\n",
      "         -6.8588e-04, -9.1221e-03, -1.2362e-02,  8.7915e-02,  6.7767e-03,\n",
      "         -1.6952e-02,  7.9434e-02, -4.3259e-02, -5.0858e-02,  1.0103e-02,\n",
      "         -2.5788e-02,  1.6463e-03, -6.0413e-02,  2.5526e-02, -8.2620e-02,\n",
      "         -3.4804e-02, -7.2105e-02,  4.9442e-02,  6.9186e-02, -2.5458e-02,\n",
      "         -5.2936e-03, -2.3303e-03,  3.9528e-02,  6.9979e-02,  1.5258e-01,\n",
      "          2.5360e-03,  5.8065e-02,  5.9665e-03,  1.4599e-04,  4.2252e-04,\n",
      "          6.7455e-03,  6.6261e-02, -1.4323e-02,  1.4495e-02,  1.3675e-01,\n",
      "         -5.5114e-02, -7.9498e-02, -7.8958e-02,  6.2598e-02,  1.0614e-03,\n",
      "         -4.8108e-02, -5.6477e-02, -4.7691e-02,  3.2336e-02, -1.3773e-01,\n",
      "          1.5335e-02,  2.4798e-04, -6.1374e-02, -6.0264e-02,  9.9608e-03,\n",
      "          6.9177e-02,  7.1007e-02,  4.3867e-04, -1.7990e-04,  4.8982e-02,\n",
      "          1.9334e-03, -5.5033e-02,  4.7071e-03, -1.9459e-03, -8.3020e-02,\n",
      "          8.0883e-03,  3.4219e-02, -6.4645e-02,  9.9428e-02,  1.0244e-02,\n",
      "         -8.3779e-02,  1.0351e-01,  1.8425e-01,  7.7640e-02,  5.1035e-02,\n",
      "         -5.5471e-02,  7.6315e-02,  1.5649e-02,  9.4326e-02, -1.8719e-04,\n",
      "          1.8398e-02,  7.4584e-02, -1.6395e-02, -1.3128e-02,  2.9012e-04,\n",
      "          7.1803e-02,  6.4107e-02, -1.2716e-02,  6.9808e-03,  1.1292e-02,\n",
      "          4.5357e-03, -9.0893e-02,  8.1673e-02, -5.5896e-02, -8.2355e-05,\n",
      "         -5.4060e-02, -1.0634e-02, -1.3340e-03, -1.2009e-02,  1.9876e-02,\n",
      "          4.9880e-02, -8.7871e-02, -2.7370e-02,  7.2668e-02,  1.1892e-02,\n",
      "         -9.3718e-04,  3.4499e-02,  1.9571e-03, -5.2471e-03, -2.2899e-04,\n",
      "          2.9101e-03, -7.3207e-03,  2.8419e-02, -3.7457e-02, -2.7173e-03,\n",
      "         -6.5957e-03,  6.7425e-02,  9.0634e-02,  1.2003e-01,  6.6215e-03,\n",
      "         -3.6073e-03,  2.4183e-03,  1.6171e-02,  6.6520e-02, -7.9730e-02,\n",
      "         -4.7557e-03,  1.0042e-01, -5.4495e-02, -2.2458e-03,  6.4581e-04,\n",
      "         -9.3139e-03,  4.3623e-02, -3.9035e-02, -4.1817e-03, -5.1286e-02,\n",
      "         -6.6038e-02,  8.6624e-02,  1.5858e-02, -6.3609e-03,  8.4391e-03,\n",
      "         -1.3279e-03,  1.9423e-03, -8.3822e-02, -1.0147e-01, -6.6733e-02,\n",
      "          6.9618e-02,  7.4995e-03,  7.1139e-02,  3.4274e-02, -1.0610e-02,\n",
      "          1.7882e-03,  7.6669e-04, -2.7920e-03, -3.8280e-03, -3.2848e-04,\n",
      "          3.2875e-02, -4.3341e-03,  8.3028e-02,  4.7688e-03,  2.4912e-03,\n",
      "          4.1405e-02,  4.7328e-03,  3.9377e-03, -2.1176e-03,  9.9399e-02,\n",
      "         -1.1418e-01, -6.2991e-03, -4.5098e-03, -2.2668e-02,  3.6680e-02,\n",
      "         -1.4055e-01,  1.8790e-02, -3.0046e-02, -5.5870e-02,  1.9608e-03,\n",
      "         -1.0333e-01,  5.7366e-02,  2.2331e-03,  9.8346e-02, -1.2688e-01,\n",
      "         -9.8107e-03,  1.0593e-01, -4.0510e-03,  2.9471e-02, -1.0697e-02,\n",
      "         -4.5006e-02, -3.3455e-02,  2.0115e-02,  4.6087e-03, -7.7011e-02,\n",
      "          5.2443e-02, -2.9649e-03,  1.0252e-02,  3.4842e-02,  4.4890e-03,\n",
      "          5.6031e-02, -1.4320e-02, -1.1076e-02, -1.9651e-04,  1.0122e-02,\n",
      "         -5.4496e-02, -2.3575e-03, -1.1503e-01,  8.8298e-03, -5.0958e-05,\n",
      "         -8.5330e-02,  1.4698e-03, -1.1068e-01,  6.4169e-02, -2.8659e-02,\n",
      "         -3.6960e-03,  2.4998e-03, -3.1918e-02,  8.9242e-02, -3.7092e-03,\n",
      "         -5.1492e-02, -2.3861e-03,  2.8839e-04, -8.5542e-02,  9.4632e-02,\n",
      "         -1.0109e-01,  2.9448e-03,  8.3996e-04,  8.3525e-02, -9.8208e-04,\n",
      "          6.1091e-02,  4.7554e-03,  3.8016e-03,  6.7338e-03,  6.1523e-02,\n",
      "         -1.8424e-04, -4.3559e-04, -3.8816e-03, -9.0416e-04, -6.4911e-02,\n",
      "         -7.8416e-02,  5.1597e-02, -7.6633e-02,  1.2931e-02, -5.0822e-02,\n",
      "         -1.2692e-01,  7.9034e-02, -9.4855e-02,  1.4236e-01, -6.8457e-02,\n",
      "          3.5720e-02,  7.3337e-02,  4.0972e-02,  4.6301e-02,  6.7823e-02,\n",
      "         -4.0511e-03,  3.6223e-03, -3.7728e-02, -9.3207e-02,  7.0901e-02,\n",
      "          6.8504e-02,  4.6340e-02,  2.5938e-02, -2.3760e-04,  9.2419e-02,\n",
      "          3.0926e-04, -1.7675e-02, -8.0769e-03,  1.4481e-02,  1.3594e-01,\n",
      "          6.5918e-02,  5.6547e-02, -6.0736e-02, -1.3993e-03,  6.5002e-04,\n",
      "          1.4576e-03,  7.9807e-02, -1.8583e-03, -9.5138e-03,  7.6613e-03,\n",
      "          6.0775e-04,  4.5540e-03,  9.6379e-02,  3.6244e-02,  6.6115e-03,\n",
      "          1.9651e-03, -3.6080e-04,  7.9459e-03, -3.7398e-03, -1.0721e-01,\n",
      "         -6.0573e-03, -1.0163e-01]], device='cuda:0', requires_grad=True)), ('bias', Parameter containing:\n",
      "tensor([0.0037], device='cuda:0', requires_grad=True))]\n"
     ]
    }
   ],
   "source": [
    "print(list(module.named_parameters()))"
   ]
  },
  {
   "cell_type": "code",
   "execution_count": 32,
   "metadata": {
    "colab": {
     "base_uri": "https://localhost:8080/"
    },
    "executionInfo": {
     "elapsed": 280,
     "status": "ok",
     "timestamp": 1703211175516,
     "user": {
      "displayName": "Melany S",
      "userId": "05076739692052721239"
     },
     "user_tz": 0
    },
    "id": "3VFb9_x4S9-5",
    "outputId": "8ece7b5f-eff8-4077-eff2-fe897c8dcaea"
   },
   "outputs": [
    {
     "name": "stdout",
     "output_type": "stream",
     "text": [
      "[('weight_mask', tensor([[1., 1., 0., 0., 1., 1., 0., 1., 1., 1., 1., 0., 0., 1., 0., 0., 0., 1.,\n",
      "         1., 1., 1., 0., 0., 1., 1., 1., 1., 1., 0., 1., 1., 0., 1., 1., 0., 1.,\n",
      "         1., 0., 0., 0., 1., 1., 0., 1., 0., 1., 1., 1., 1., 0., 1., 1., 1., 1.,\n",
      "         1., 1., 1., 1., 0., 0., 0., 1., 0., 0., 1., 0., 0., 1., 1., 1., 1., 0.,\n",
      "         1., 1., 0., 1., 0., 0., 0., 0., 1., 0., 1., 1., 0., 0., 1., 1., 1., 1.,\n",
      "         1., 0., 1., 1., 0., 1., 1., 0., 0., 1., 1., 0., 0., 1., 0., 1., 0., 1.,\n",
      "         1., 1., 1., 1., 1., 1., 1., 0., 0., 1., 1., 1., 1., 0., 1., 0., 1., 1.,\n",
      "         0., 1., 0., 0., 1., 1., 1., 1., 1., 1., 1., 1., 0., 1., 1., 0., 1., 1.,\n",
      "         1., 0., 1., 1., 0., 0., 1., 1., 1., 1., 0., 1., 0., 1., 1., 0., 0., 1.,\n",
      "         0., 1., 1., 1., 1., 1., 1., 1., 1., 1., 1., 0., 1., 0., 1., 0., 1., 1.,\n",
      "         0., 0., 1., 1., 1., 1., 1., 1., 1., 0., 1., 1., 0., 1., 0., 1., 1., 0.,\n",
      "         1., 0., 0., 1., 1., 1., 0., 0., 1., 1., 0., 1., 1., 0., 1., 1., 1., 1.,\n",
      "         0., 1., 0., 1., 1., 0., 1., 1., 0., 0., 1., 1., 1., 0., 0., 0., 1., 1.,\n",
      "         0., 1., 1., 1., 1., 1., 1., 0., 1., 1., 1., 1., 1., 1., 1., 1., 0., 0.,\n",
      "         1., 1., 1., 0., 1., 0., 0., 0., 0., 1., 1., 1., 1., 1., 1., 1., 1., 0.,\n",
      "         1., 1., 1., 1., 1., 1., 0., 1., 1., 1., 1., 1., 0., 0., 1., 0., 1., 0.,\n",
      "         0., 1., 0., 1., 1., 1., 1., 1., 1., 1., 1., 1., 1., 1., 1., 1., 0., 1.,\n",
      "         1., 1., 1., 0., 1., 1., 1., 0., 1., 0., 1., 1., 1., 0., 1., 1., 0., 1.,\n",
      "         1., 1., 1., 1., 1., 1., 0., 1., 0., 0., 0., 0., 0., 1., 1., 0., 0., 1.,\n",
      "         1., 1., 0., 0., 0., 1., 1., 1., 0., 1., 1., 0., 0., 0., 1., 1., 0., 1.,\n",
      "         1., 1., 1., 0., 0., 0., 0., 1., 1., 1., 1., 0., 1., 1., 1., 0., 0., 0.,\n",
      "         0., 0., 1., 0., 1., 0., 0., 1., 0., 0., 0., 1., 1., 0., 0., 1., 1., 1.,\n",
      "         1., 1., 1., 0., 1., 1., 0., 1., 1., 1., 1., 0., 1., 1., 1., 1., 1., 0.,\n",
      "         1., 1., 0., 1., 1., 0., 1., 1., 1., 0., 1., 1., 0., 1., 0., 0., 1., 0.,\n",
      "         1., 1., 1., 0., 0., 1., 1., 0., 1., 0., 0., 1., 1., 1., 0., 0., 1., 0.,\n",
      "         1., 0., 0., 0., 1., 0., 0., 0., 0., 1., 1., 1., 1., 1., 1., 1., 1., 1.,\n",
      "         1., 1., 1., 1., 1., 1., 1., 0., 0., 1., 1., 1., 1., 1., 1., 0., 1., 0.,\n",
      "         1., 0., 1., 1., 1., 1., 1., 0., 0., 0., 1., 0., 1., 0., 0., 0., 1., 1.,\n",
      "         0., 0., 0., 0., 0., 1., 0., 1.]], device='cuda:0'))]\n"
     ]
    }
   ],
   "source": [
    "print(list(module.named_buffers()))"
   ]
  },
  {
   "cell_type": "code",
   "execution_count": 33,
   "metadata": {
    "colab": {
     "base_uri": "https://localhost:8080/"
    },
    "executionInfo": {
     "elapsed": 276,
     "status": "ok",
     "timestamp": 1703211182744,
     "user": {
      "displayName": "Melany S",
      "userId": "05076739692052721239"
     },
     "user_tz": 0
    },
    "id": "bw0D4bsITAsx",
    "outputId": "46404c15-ef5a-40b1-a787-8d8cfcf48e23"
   },
   "outputs": [
    {
     "name": "stdout",
     "output_type": "stream",
     "text": [
      "Parameter containing:\n",
      "tensor([0.0037], device='cuda:0', requires_grad=True)\n"
     ]
    }
   ],
   "source": [
    "print(module.bias)"
   ]
  },
  {
   "cell_type": "code",
   "execution_count": 34,
   "metadata": {
    "colab": {
     "base_uri": "https://localhost:8080/"
    },
    "executionInfo": {
     "elapsed": 276,
     "status": "ok",
     "timestamp": 1703211190310,
     "user": {
      "displayName": "Melany S",
      "userId": "05076739692052721239"
     },
     "user_tz": 0
    },
    "id": "wYw_NbBETCdn",
    "outputId": "25433ea6-82cd-4ff2-9389-655b50eca9c6"
   },
   "outputs": [
    {
     "name": "stdout",
     "output_type": "stream",
     "text": [
      "OrderedDict([(1, <torch.nn.utils.prune.PruningContainer object at 0x7f4eacba5210>)])\n"
     ]
    }
   ],
   "source": [
    "print(module._forward_pre_hooks)"
   ]
  },
  {
   "cell_type": "code",
   "execution_count": null,
   "metadata": {
    "id": "74RvxXwVTET3"
   },
   "outputs": [],
   "source": []
  }
 ],
 "metadata": {
  "accelerator": "GPU",
  "colab": {
   "authorship_tag": "ABX9TyOmdEbHpgofl7czVm1/dGkw",
   "gpuType": "V100",
   "machine_shape": "hm",
   "provenance": []
  },
  "kernelspec": {
   "display_name": "Python 3 (ipykernel)",
   "language": "python",
   "name": "python3"
  },
  "language_info": {
   "codemirror_mode": {
    "name": "ipython",
    "version": 3
   },
   "file_extension": ".py",
   "mimetype": "text/x-python",
   "name": "python",
   "nbconvert_exporter": "python",
   "pygments_lexer": "ipython3",
   "version": "3.8.12"
  }
 },
 "nbformat": 4,
 "nbformat_minor": 1
}
